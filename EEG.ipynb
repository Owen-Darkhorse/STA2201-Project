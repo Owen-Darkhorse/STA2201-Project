{
  "nbformat": 4,
  "nbformat_minor": 0,
  "metadata": {
    "colab": {
      "provenance": [],
      "authorship_tag": "ABX9TyP6/7EEb1Hs9G08UEEizw/N",
      "include_colab_link": true
    },
    "kernelspec": {
      "name": "python3",
      "display_name": "Python 3"
    },
    "language_info": {
      "name": "python"
    }
  },
  "cells": [
    {
      "cell_type": "markdown",
      "metadata": {
        "id": "view-in-github",
        "colab_type": "text"
      },
      "source": [
        "<a href=\"https://colab.research.google.com/github/Owen-Darkhorse/STA2201-Project/blob/Evelyn/EEG.ipynb\" target=\"_parent\"><img src=\"https://colab.research.google.com/assets/colab-badge.svg\" alt=\"Open In Colab\"/></a>"
      ]
    },
    {
      "cell_type": "code",
      "execution_count": 1,
      "metadata": {
        "colab": {
          "base_uri": "https://localhost:8080/"
        },
        "id": "-mFTNX7vo9Oe",
        "outputId": "a405cc7a-43dd-46f5-e367-6476e279e003"
      },
      "outputs": [
        {
          "output_type": "stream",
          "name": "stdout",
          "text": [
            "Path to dataset files: /root/.cache/kagglehub/datasets/yosftag/open-nuro-dataset/versions/1\n"
          ]
        }
      ],
      "source": [
        "import kagglehub\n",
        "\n",
        "# Download latest version\n",
        "path = kagglehub.dataset_download(\"yosftag/open-nuro-dataset\")\n",
        "\n",
        "print(\"Path to dataset files:\", path)"
      ]
    },
    {
      "cell_type": "code",
      "source": [
        "pip install mne\n"
      ],
      "metadata": {
        "colab": {
          "base_uri": "https://localhost:8080/"
        },
        "id": "Ch0IFjPlpQuv",
        "outputId": "f7fa3bf0-bbad-4353-e87b-79041e368064"
      },
      "execution_count": 2,
      "outputs": [
        {
          "output_type": "stream",
          "name": "stdout",
          "text": [
            "Requirement already satisfied: mne in /usr/local/lib/python3.11/dist-packages (1.9.0)\n",
            "Requirement already satisfied: decorator in /usr/local/lib/python3.11/dist-packages (from mne) (4.4.2)\n",
            "Requirement already satisfied: jinja2 in /usr/local/lib/python3.11/dist-packages (from mne) (3.1.6)\n",
            "Requirement already satisfied: lazy-loader>=0.3 in /usr/local/lib/python3.11/dist-packages (from mne) (0.4)\n",
            "Requirement already satisfied: matplotlib>=3.6 in /usr/local/lib/python3.11/dist-packages (from mne) (3.10.0)\n",
            "Requirement already satisfied: numpy<3,>=1.23 in /usr/local/lib/python3.11/dist-packages (from mne) (2.0.2)\n",
            "Requirement already satisfied: packaging in /usr/local/lib/python3.11/dist-packages (from mne) (24.2)\n",
            "Requirement already satisfied: pooch>=1.5 in /usr/local/lib/python3.11/dist-packages (from mne) (1.8.2)\n",
            "Requirement already satisfied: scipy>=1.9 in /usr/local/lib/python3.11/dist-packages (from mne) (1.14.1)\n",
            "Requirement already satisfied: tqdm in /usr/local/lib/python3.11/dist-packages (from mne) (4.67.1)\n",
            "Requirement already satisfied: contourpy>=1.0.1 in /usr/local/lib/python3.11/dist-packages (from matplotlib>=3.6->mne) (1.3.1)\n",
            "Requirement already satisfied: cycler>=0.10 in /usr/local/lib/python3.11/dist-packages (from matplotlib>=3.6->mne) (0.12.1)\n",
            "Requirement already satisfied: fonttools>=4.22.0 in /usr/local/lib/python3.11/dist-packages (from matplotlib>=3.6->mne) (4.56.0)\n",
            "Requirement already satisfied: kiwisolver>=1.3.1 in /usr/local/lib/python3.11/dist-packages (from matplotlib>=3.6->mne) (1.4.8)\n",
            "Requirement already satisfied: pillow>=8 in /usr/local/lib/python3.11/dist-packages (from matplotlib>=3.6->mne) (11.1.0)\n",
            "Requirement already satisfied: pyparsing>=2.3.1 in /usr/local/lib/python3.11/dist-packages (from matplotlib>=3.6->mne) (3.2.3)\n",
            "Requirement already satisfied: python-dateutil>=2.7 in /usr/local/lib/python3.11/dist-packages (from matplotlib>=3.6->mne) (2.8.2)\n",
            "Requirement already satisfied: platformdirs>=2.5.0 in /usr/local/lib/python3.11/dist-packages (from pooch>=1.5->mne) (4.3.7)\n",
            "Requirement already satisfied: requests>=2.19.0 in /usr/local/lib/python3.11/dist-packages (from pooch>=1.5->mne) (2.32.3)\n",
            "Requirement already satisfied: MarkupSafe>=2.0 in /usr/local/lib/python3.11/dist-packages (from jinja2->mne) (3.0.2)\n",
            "Requirement already satisfied: six>=1.5 in /usr/local/lib/python3.11/dist-packages (from python-dateutil>=2.7->matplotlib>=3.6->mne) (1.17.0)\n",
            "Requirement already satisfied: charset-normalizer<4,>=2 in /usr/local/lib/python3.11/dist-packages (from requests>=2.19.0->pooch>=1.5->mne) (3.4.1)\n",
            "Requirement already satisfied: idna<4,>=2.5 in /usr/local/lib/python3.11/dist-packages (from requests>=2.19.0->pooch>=1.5->mne) (3.10)\n",
            "Requirement already satisfied: urllib3<3,>=1.21.1 in /usr/local/lib/python3.11/dist-packages (from requests>=2.19.0->pooch>=1.5->mne) (2.3.0)\n",
            "Requirement already satisfied: certifi>=2017.4.17 in /usr/local/lib/python3.11/dist-packages (from requests>=2.19.0->pooch>=1.5->mne) (2025.1.31)\n"
          ]
        }
      ]
    },
    {
      "cell_type": "markdown",
      "source": [
        "/root/.cache/kagglehub/datasets/yosftag/open-nuro-dataset/versions/1/dataset/sub-001/eeg   for subject 1\n",
        "\n",
        "/root/.cache/kagglehub/datasets/yosftag/open-nuro-dataset/versions/1/dataset/sub-002/eeg    for subject 2,\n",
        "\n",
        "i have 088 subject\n"
      ],
      "metadata": {
        "id": "1WEALEdnq2uo"
      }
    },
    {
      "cell_type": "code",
      "source": [
        "import os\n",
        "import mne\n",
        "import pandas as pd\n",
        "import json\n",
        "\n",
        "def read_eeg_data(base_path, num_subjects=88):\n",
        "    eeg_data = {}  # To store data for each subject\n",
        "\n",
        "    # Loop over all subjects\n",
        "    for i in range(1, num_subjects + 1):\n",
        "        subject_id = f\"sub-{i:03d}\"  # Create subject ID (e.g., sub-001, sub-002, ..., sub-088)\n",
        "        subject_path = os.path.join(base_path, subject_id, 'eeg')\n",
        "\n",
        "        # Check if the subject's EEG directory exists\n",
        "        if os.path.exists(subject_path):\n",
        "            subject_info = {}\n",
        "\n",
        "            # Read the .set file\n",
        "            set_file = os.path.join(subject_path, f\"{subject_id}_task-eyesclosed_eeg.set\")\n",
        "            if os.path.isfile(set_file):\n",
        "                try:\n",
        "                    raw = mne.io.read_raw_eeglab(set_file, preload=True)\n",
        "                    subject_info['eeg'] = raw\n",
        "                    print(f\"Successfully loaded EEG data for {subject_id}\")\n",
        "                except Exception as e:\n",
        "                    print(f\"Error loading EEG data for {subject_id}: {e}\")\n",
        "            else:\n",
        "                print(f\".set file not found for {subject_id}\")\n",
        "\n",
        "            # Read the .tsv file\n",
        "            tsv_file = os.path.join(subject_path, f\"{subject_id}_task-eyesclosed_channels.tsv\")\n",
        "            if os.path.isfile(tsv_file):\n",
        "                try:\n",
        "                    channels_info = pd.read_csv(tsv_file, sep='\\t')\n",
        "                    subject_info['channels'] = channels_info\n",
        "                    print(f\"Successfully loaded channel info for {subject_id}\")\n",
        "                except Exception as e:\n",
        "                    print(f\"Error loading channel info for {subject_id}: {e}\")\n",
        "            else:\n",
        "                print(f\".tsv file not found for {subject_id}\")\n",
        "\n",
        "            # Read the .json file\n",
        "            json_file = os.path.join(subject_path, f\"{subject_id}_task-eyesclosed_eeg.json\")\n",
        "            if os.path.isfile(json_file):\n",
        "                try:\n",
        "                    with open(json_file, 'r') as f:\n",
        "                        eeg_metadata = json.load(f)\n",
        "                        subject_info['metadata'] = eeg_metadata\n",
        "                        print(f\"Successfully loaded metadata for {subject_id}\")\n",
        "                except Exception as e:\n",
        "                    print(f\"Error loading metadata for {subject_id}: {e}\")\n",
        "            else:\n",
        "                print(f\".json file not found for {subject_id}\")\n",
        "\n",
        "            # Store the data for the current subject\n",
        "            eeg_data[subject_id] = subject_info\n",
        "        else:\n",
        "            print(f\"EEG directory not found for {subject_id}\")\n",
        "\n",
        "    return eeg_data\n",
        "\n",
        "# Example usage\n",
        "base_path = '/root/.cache/kagglehub/datasets/yosftag/open-nuro-dataset/versions/1/dataset/derivatives'\n",
        "eeg_data = read_eeg_data(base_path)\n",
        "\n",
        "# Optionally, access data for a specific subject, for example:\n",
        "subject_1_data = eeg_data.get('sub-001')\n"
      ],
      "metadata": {
        "colab": {
          "base_uri": "https://localhost:8080/"
        },
        "id": "LL7hxgLsqG-J",
        "outputId": "300e92ae-99f6-43fb-c5aa-dc9a2a907fe0"
      },
      "execution_count": 3,
      "outputs": [
        {
          "output_type": "stream",
          "name": "stdout",
          "text": [
            "Successfully loaded EEG data for sub-001\n",
            ".tsv file not found for sub-001\n",
            ".json file not found for sub-001\n",
            "Successfully loaded EEG data for sub-002\n",
            ".tsv file not found for sub-002\n",
            ".json file not found for sub-002\n",
            "Successfully loaded EEG data for sub-003\n",
            ".tsv file not found for sub-003\n",
            ".json file not found for sub-003\n"
          ]
        },
        {
          "output_type": "stream",
          "name": "stderr",
          "text": [
            "<ipython-input-3-33394355b129>:22: RuntimeWarning: The data contains 'boundary' events, indicating data discontinuities. Be cautious of filtering and epoching around these events.\n",
            "  raw = mne.io.read_raw_eeglab(set_file, preload=True)\n",
            "<ipython-input-3-33394355b129>:22: RuntimeWarning: The data contains 'boundary' events, indicating data discontinuities. Be cautious of filtering and epoching around these events.\n",
            "  raw = mne.io.read_raw_eeglab(set_file, preload=True)\n"
          ]
        },
        {
          "output_type": "stream",
          "name": "stdout",
          "text": [
            "Successfully loaded EEG data for sub-004\n",
            ".tsv file not found for sub-004\n",
            ".json file not found for sub-004\n",
            "Successfully loaded EEG data for sub-005\n",
            ".tsv file not found for sub-005\n",
            ".json file not found for sub-005\n"
          ]
        },
        {
          "output_type": "stream",
          "name": "stderr",
          "text": [
            "<ipython-input-3-33394355b129>:22: RuntimeWarning: The data contains 'boundary' events, indicating data discontinuities. Be cautious of filtering and epoching around these events.\n",
            "  raw = mne.io.read_raw_eeglab(set_file, preload=True)\n"
          ]
        },
        {
          "output_type": "stream",
          "name": "stdout",
          "text": [
            "Successfully loaded EEG data for sub-006\n",
            ".tsv file not found for sub-006\n",
            ".json file not found for sub-006\n"
          ]
        },
        {
          "output_type": "stream",
          "name": "stderr",
          "text": [
            "<ipython-input-3-33394355b129>:22: RuntimeWarning: The data contains 'boundary' events, indicating data discontinuities. Be cautious of filtering and epoching around these events.\n",
            "  raw = mne.io.read_raw_eeglab(set_file, preload=True)\n"
          ]
        },
        {
          "output_type": "stream",
          "name": "stdout",
          "text": [
            "Successfully loaded EEG data for sub-007\n",
            ".tsv file not found for sub-007\n",
            ".json file not found for sub-007\n"
          ]
        },
        {
          "output_type": "stream",
          "name": "stderr",
          "text": [
            "<ipython-input-3-33394355b129>:22: RuntimeWarning: The data contains 'boundary' events, indicating data discontinuities. Be cautious of filtering and epoching around these events.\n",
            "  raw = mne.io.read_raw_eeglab(set_file, preload=True)\n"
          ]
        },
        {
          "output_type": "stream",
          "name": "stdout",
          "text": [
            "Successfully loaded EEG data for sub-008\n",
            ".tsv file not found for sub-008\n",
            ".json file not found for sub-008\n"
          ]
        },
        {
          "output_type": "stream",
          "name": "stderr",
          "text": [
            "<ipython-input-3-33394355b129>:22: RuntimeWarning: The data contains 'boundary' events, indicating data discontinuities. Be cautious of filtering and epoching around these events.\n",
            "  raw = mne.io.read_raw_eeglab(set_file, preload=True)\n"
          ]
        },
        {
          "output_type": "stream",
          "name": "stdout",
          "text": [
            "Successfully loaded EEG data for sub-009\n",
            ".tsv file not found for sub-009\n",
            ".json file not found for sub-009\n"
          ]
        },
        {
          "output_type": "stream",
          "name": "stderr",
          "text": [
            "<ipython-input-3-33394355b129>:22: RuntimeWarning: The data contains 'boundary' events, indicating data discontinuities. Be cautious of filtering and epoching around these events.\n",
            "  raw = mne.io.read_raw_eeglab(set_file, preload=True)\n"
          ]
        },
        {
          "output_type": "stream",
          "name": "stdout",
          "text": [
            "Successfully loaded EEG data for sub-010\n",
            ".tsv file not found for sub-010\n",
            ".json file not found for sub-010\n"
          ]
        },
        {
          "output_type": "stream",
          "name": "stderr",
          "text": [
            "<ipython-input-3-33394355b129>:22: RuntimeWarning: The data contains 'boundary' events, indicating data discontinuities. Be cautious of filtering and epoching around these events.\n",
            "  raw = mne.io.read_raw_eeglab(set_file, preload=True)\n"
          ]
        },
        {
          "output_type": "stream",
          "name": "stdout",
          "text": [
            "Successfully loaded EEG data for sub-011\n",
            ".tsv file not found for sub-011\n",
            ".json file not found for sub-011\n"
          ]
        },
        {
          "output_type": "stream",
          "name": "stderr",
          "text": [
            "<ipython-input-3-33394355b129>:22: RuntimeWarning: The data contains 'boundary' events, indicating data discontinuities. Be cautious of filtering and epoching around these events.\n",
            "  raw = mne.io.read_raw_eeglab(set_file, preload=True)\n"
          ]
        },
        {
          "output_type": "stream",
          "name": "stdout",
          "text": [
            "Successfully loaded EEG data for sub-012\n",
            ".tsv file not found for sub-012\n",
            ".json file not found for sub-012\n"
          ]
        },
        {
          "output_type": "stream",
          "name": "stderr",
          "text": [
            "<ipython-input-3-33394355b129>:22: RuntimeWarning: The data contains 'boundary' events, indicating data discontinuities. Be cautious of filtering and epoching around these events.\n",
            "  raw = mne.io.read_raw_eeglab(set_file, preload=True)\n"
          ]
        },
        {
          "output_type": "stream",
          "name": "stdout",
          "text": [
            "Successfully loaded EEG data for sub-013\n",
            ".tsv file not found for sub-013\n",
            ".json file not found for sub-013\n"
          ]
        },
        {
          "output_type": "stream",
          "name": "stderr",
          "text": [
            "<ipython-input-3-33394355b129>:22: RuntimeWarning: The data contains 'boundary' events, indicating data discontinuities. Be cautious of filtering and epoching around these events.\n",
            "  raw = mne.io.read_raw_eeglab(set_file, preload=True)\n"
          ]
        },
        {
          "output_type": "stream",
          "name": "stdout",
          "text": [
            "Successfully loaded EEG data for sub-014\n",
            ".tsv file not found for sub-014\n",
            ".json file not found for sub-014\n"
          ]
        },
        {
          "output_type": "stream",
          "name": "stderr",
          "text": [
            "<ipython-input-3-33394355b129>:22: RuntimeWarning: The data contains 'boundary' events, indicating data discontinuities. Be cautious of filtering and epoching around these events.\n",
            "  raw = mne.io.read_raw_eeglab(set_file, preload=True)\n"
          ]
        },
        {
          "output_type": "stream",
          "name": "stdout",
          "text": [
            "Successfully loaded EEG data for sub-015\n",
            ".tsv file not found for sub-015\n",
            ".json file not found for sub-015\n"
          ]
        },
        {
          "output_type": "stream",
          "name": "stderr",
          "text": [
            "<ipython-input-3-33394355b129>:22: RuntimeWarning: The data contains 'boundary' events, indicating data discontinuities. Be cautious of filtering and epoching around these events.\n",
            "  raw = mne.io.read_raw_eeglab(set_file, preload=True)\n"
          ]
        },
        {
          "output_type": "stream",
          "name": "stdout",
          "text": [
            "Successfully loaded EEG data for sub-016\n",
            ".tsv file not found for sub-016\n",
            ".json file not found for sub-016\n"
          ]
        },
        {
          "output_type": "stream",
          "name": "stderr",
          "text": [
            "<ipython-input-3-33394355b129>:22: RuntimeWarning: The data contains 'boundary' events, indicating data discontinuities. Be cautious of filtering and epoching around these events.\n",
            "  raw = mne.io.read_raw_eeglab(set_file, preload=True)\n"
          ]
        },
        {
          "output_type": "stream",
          "name": "stdout",
          "text": [
            "Successfully loaded EEG data for sub-017\n",
            ".tsv file not found for sub-017\n",
            ".json file not found for sub-017\n"
          ]
        },
        {
          "output_type": "stream",
          "name": "stderr",
          "text": [
            "<ipython-input-3-33394355b129>:22: RuntimeWarning: The data contains 'boundary' events, indicating data discontinuities. Be cautious of filtering and epoching around these events.\n",
            "  raw = mne.io.read_raw_eeglab(set_file, preload=True)\n"
          ]
        },
        {
          "output_type": "stream",
          "name": "stdout",
          "text": [
            "Successfully loaded EEG data for sub-018\n",
            ".tsv file not found for sub-018\n",
            ".json file not found for sub-018\n"
          ]
        },
        {
          "output_type": "stream",
          "name": "stderr",
          "text": [
            "<ipython-input-3-33394355b129>:22: RuntimeWarning: The data contains 'boundary' events, indicating data discontinuities. Be cautious of filtering and epoching around these events.\n",
            "  raw = mne.io.read_raw_eeglab(set_file, preload=True)\n"
          ]
        },
        {
          "output_type": "stream",
          "name": "stdout",
          "text": [
            "Successfully loaded EEG data for sub-019\n",
            ".tsv file not found for sub-019\n",
            ".json file not found for sub-019\n",
            "Successfully loaded EEG data for sub-020\n",
            ".tsv file not found for sub-020\n",
            ".json file not found for sub-020\n"
          ]
        },
        {
          "output_type": "stream",
          "name": "stderr",
          "text": [
            "<ipython-input-3-33394355b129>:22: RuntimeWarning: The data contains 'boundary' events, indicating data discontinuities. Be cautious of filtering and epoching around these events.\n",
            "  raw = mne.io.read_raw_eeglab(set_file, preload=True)\n"
          ]
        },
        {
          "output_type": "stream",
          "name": "stdout",
          "text": [
            "Successfully loaded EEG data for sub-021\n",
            ".tsv file not found for sub-021\n",
            ".json file not found for sub-021\n"
          ]
        },
        {
          "output_type": "stream",
          "name": "stderr",
          "text": [
            "<ipython-input-3-33394355b129>:22: RuntimeWarning: The data contains 'boundary' events, indicating data discontinuities. Be cautious of filtering and epoching around these events.\n",
            "  raw = mne.io.read_raw_eeglab(set_file, preload=True)\n"
          ]
        },
        {
          "output_type": "stream",
          "name": "stdout",
          "text": [
            "Successfully loaded EEG data for sub-022\n",
            ".tsv file not found for sub-022\n",
            ".json file not found for sub-022\n"
          ]
        },
        {
          "output_type": "stream",
          "name": "stderr",
          "text": [
            "<ipython-input-3-33394355b129>:22: RuntimeWarning: The data contains 'boundary' events, indicating data discontinuities. Be cautious of filtering and epoching around these events.\n",
            "  raw = mne.io.read_raw_eeglab(set_file, preload=True)\n"
          ]
        },
        {
          "output_type": "stream",
          "name": "stdout",
          "text": [
            "Successfully loaded EEG data for sub-023\n",
            ".tsv file not found for sub-023\n",
            ".json file not found for sub-023\n"
          ]
        },
        {
          "output_type": "stream",
          "name": "stderr",
          "text": [
            "<ipython-input-3-33394355b129>:22: RuntimeWarning: The data contains 'boundary' events, indicating data discontinuities. Be cautious of filtering and epoching around these events.\n",
            "  raw = mne.io.read_raw_eeglab(set_file, preload=True)\n"
          ]
        },
        {
          "output_type": "stream",
          "name": "stdout",
          "text": [
            "Successfully loaded EEG data for sub-024\n",
            ".tsv file not found for sub-024\n",
            ".json file not found for sub-024\n"
          ]
        },
        {
          "output_type": "stream",
          "name": "stderr",
          "text": [
            "<ipython-input-3-33394355b129>:22: RuntimeWarning: The data contains 'boundary' events, indicating data discontinuities. Be cautious of filtering and epoching around these events.\n",
            "  raw = mne.io.read_raw_eeglab(set_file, preload=True)\n"
          ]
        },
        {
          "output_type": "stream",
          "name": "stdout",
          "text": [
            "Successfully loaded EEG data for sub-025\n",
            ".tsv file not found for sub-025\n",
            ".json file not found for sub-025\n"
          ]
        },
        {
          "output_type": "stream",
          "name": "stderr",
          "text": [
            "<ipython-input-3-33394355b129>:22: RuntimeWarning: The data contains 'boundary' events, indicating data discontinuities. Be cautious of filtering and epoching around these events.\n",
            "  raw = mne.io.read_raw_eeglab(set_file, preload=True)\n"
          ]
        },
        {
          "output_type": "stream",
          "name": "stdout",
          "text": [
            "Successfully loaded EEG data for sub-026\n",
            ".tsv file not found for sub-026\n",
            ".json file not found for sub-026\n"
          ]
        },
        {
          "output_type": "stream",
          "name": "stderr",
          "text": [
            "<ipython-input-3-33394355b129>:22: RuntimeWarning: The data contains 'boundary' events, indicating data discontinuities. Be cautious of filtering and epoching around these events.\n",
            "  raw = mne.io.read_raw_eeglab(set_file, preload=True)\n"
          ]
        },
        {
          "output_type": "stream",
          "name": "stdout",
          "text": [
            "Successfully loaded EEG data for sub-027\n",
            ".tsv file not found for sub-027\n",
            ".json file not found for sub-027\n"
          ]
        },
        {
          "output_type": "stream",
          "name": "stderr",
          "text": [
            "<ipython-input-3-33394355b129>:22: RuntimeWarning: The data contains 'boundary' events, indicating data discontinuities. Be cautious of filtering and epoching around these events.\n",
            "  raw = mne.io.read_raw_eeglab(set_file, preload=True)\n"
          ]
        },
        {
          "output_type": "stream",
          "name": "stdout",
          "text": [
            "Successfully loaded EEG data for sub-028\n",
            ".tsv file not found for sub-028\n",
            ".json file not found for sub-028\n"
          ]
        },
        {
          "output_type": "stream",
          "name": "stderr",
          "text": [
            "<ipython-input-3-33394355b129>:22: RuntimeWarning: The data contains 'boundary' events, indicating data discontinuities. Be cautious of filtering and epoching around these events.\n",
            "  raw = mne.io.read_raw_eeglab(set_file, preload=True)\n"
          ]
        },
        {
          "output_type": "stream",
          "name": "stdout",
          "text": [
            "Successfully loaded EEG data for sub-029\n",
            ".tsv file not found for sub-029\n",
            ".json file not found for sub-029\n"
          ]
        },
        {
          "output_type": "stream",
          "name": "stderr",
          "text": [
            "<ipython-input-3-33394355b129>:22: RuntimeWarning: The data contains 'boundary' events, indicating data discontinuities. Be cautious of filtering and epoching around these events.\n",
            "  raw = mne.io.read_raw_eeglab(set_file, preload=True)\n"
          ]
        },
        {
          "output_type": "stream",
          "name": "stdout",
          "text": [
            "Successfully loaded EEG data for sub-030\n",
            ".tsv file not found for sub-030\n",
            ".json file not found for sub-030\n"
          ]
        },
        {
          "output_type": "stream",
          "name": "stderr",
          "text": [
            "<ipython-input-3-33394355b129>:22: RuntimeWarning: The data contains 'boundary' events, indicating data discontinuities. Be cautious of filtering and epoching around these events.\n",
            "  raw = mne.io.read_raw_eeglab(set_file, preload=True)\n"
          ]
        },
        {
          "output_type": "stream",
          "name": "stdout",
          "text": [
            "Successfully loaded EEG data for sub-031\n",
            ".tsv file not found for sub-031\n",
            ".json file not found for sub-031\n"
          ]
        },
        {
          "output_type": "stream",
          "name": "stderr",
          "text": [
            "<ipython-input-3-33394355b129>:22: RuntimeWarning: The data contains 'boundary' events, indicating data discontinuities. Be cautious of filtering and epoching around these events.\n",
            "  raw = mne.io.read_raw_eeglab(set_file, preload=True)\n"
          ]
        },
        {
          "output_type": "stream",
          "name": "stdout",
          "text": [
            "Successfully loaded EEG data for sub-032\n",
            ".tsv file not found for sub-032\n",
            ".json file not found for sub-032\n"
          ]
        },
        {
          "output_type": "stream",
          "name": "stderr",
          "text": [
            "<ipython-input-3-33394355b129>:22: RuntimeWarning: The data contains 'boundary' events, indicating data discontinuities. Be cautious of filtering and epoching around these events.\n",
            "  raw = mne.io.read_raw_eeglab(set_file, preload=True)\n"
          ]
        },
        {
          "output_type": "stream",
          "name": "stdout",
          "text": [
            "Successfully loaded EEG data for sub-033\n",
            ".tsv file not found for sub-033\n",
            ".json file not found for sub-033\n"
          ]
        },
        {
          "output_type": "stream",
          "name": "stderr",
          "text": [
            "<ipython-input-3-33394355b129>:22: RuntimeWarning: The data contains 'boundary' events, indicating data discontinuities. Be cautious of filtering and epoching around these events.\n",
            "  raw = mne.io.read_raw_eeglab(set_file, preload=True)\n"
          ]
        },
        {
          "output_type": "stream",
          "name": "stdout",
          "text": [
            "Successfully loaded EEG data for sub-034\n",
            ".tsv file not found for sub-034\n",
            ".json file not found for sub-034\n"
          ]
        },
        {
          "output_type": "stream",
          "name": "stderr",
          "text": [
            "<ipython-input-3-33394355b129>:22: RuntimeWarning: The data contains 'boundary' events, indicating data discontinuities. Be cautious of filtering and epoching around these events.\n",
            "  raw = mne.io.read_raw_eeglab(set_file, preload=True)\n"
          ]
        },
        {
          "output_type": "stream",
          "name": "stdout",
          "text": [
            "Successfully loaded EEG data for sub-035\n",
            ".tsv file not found for sub-035\n",
            ".json file not found for sub-035\n"
          ]
        },
        {
          "output_type": "stream",
          "name": "stderr",
          "text": [
            "<ipython-input-3-33394355b129>:22: RuntimeWarning: The data contains 'boundary' events, indicating data discontinuities. Be cautious of filtering and epoching around these events.\n",
            "  raw = mne.io.read_raw_eeglab(set_file, preload=True)\n"
          ]
        },
        {
          "output_type": "stream",
          "name": "stdout",
          "text": [
            "Successfully loaded EEG data for sub-036\n",
            ".tsv file not found for sub-036\n",
            ".json file not found for sub-036\n",
            "Successfully loaded EEG data for sub-037\n",
            ".tsv file not found for sub-037\n",
            ".json file not found for sub-037\n"
          ]
        },
        {
          "output_type": "stream",
          "name": "stderr",
          "text": [
            "<ipython-input-3-33394355b129>:22: RuntimeWarning: The data contains 'boundary' events, indicating data discontinuities. Be cautious of filtering and epoching around these events.\n",
            "  raw = mne.io.read_raw_eeglab(set_file, preload=True)\n"
          ]
        },
        {
          "output_type": "stream",
          "name": "stdout",
          "text": [
            "Successfully loaded EEG data for sub-038\n",
            ".tsv file not found for sub-038\n",
            ".json file not found for sub-038\n"
          ]
        },
        {
          "output_type": "stream",
          "name": "stderr",
          "text": [
            "<ipython-input-3-33394355b129>:22: RuntimeWarning: The data contains 'boundary' events, indicating data discontinuities. Be cautious of filtering and epoching around these events.\n",
            "  raw = mne.io.read_raw_eeglab(set_file, preload=True)\n"
          ]
        },
        {
          "output_type": "stream",
          "name": "stdout",
          "text": [
            "Successfully loaded EEG data for sub-039\n",
            ".tsv file not found for sub-039\n",
            ".json file not found for sub-039\n"
          ]
        },
        {
          "output_type": "stream",
          "name": "stderr",
          "text": [
            "<ipython-input-3-33394355b129>:22: RuntimeWarning: The data contains 'boundary' events, indicating data discontinuities. Be cautious of filtering and epoching around these events.\n",
            "  raw = mne.io.read_raw_eeglab(set_file, preload=True)\n"
          ]
        },
        {
          "output_type": "stream",
          "name": "stdout",
          "text": [
            "Successfully loaded EEG data for sub-040\n",
            ".tsv file not found for sub-040\n",
            ".json file not found for sub-040\n"
          ]
        },
        {
          "output_type": "stream",
          "name": "stderr",
          "text": [
            "<ipython-input-3-33394355b129>:22: RuntimeWarning: The data contains 'boundary' events, indicating data discontinuities. Be cautious of filtering and epoching around these events.\n",
            "  raw = mne.io.read_raw_eeglab(set_file, preload=True)\n"
          ]
        },
        {
          "output_type": "stream",
          "name": "stdout",
          "text": [
            "Successfully loaded EEG data for sub-041\n",
            ".tsv file not found for sub-041\n",
            ".json file not found for sub-041\n"
          ]
        },
        {
          "output_type": "stream",
          "name": "stderr",
          "text": [
            "<ipython-input-3-33394355b129>:22: RuntimeWarning: The data contains 'boundary' events, indicating data discontinuities. Be cautious of filtering and epoching around these events.\n",
            "  raw = mne.io.read_raw_eeglab(set_file, preload=True)\n"
          ]
        },
        {
          "output_type": "stream",
          "name": "stdout",
          "text": [
            "Successfully loaded EEG data for sub-042\n",
            ".tsv file not found for sub-042\n",
            ".json file not found for sub-042\n",
            "Successfully loaded EEG data for sub-043\n",
            ".tsv file not found for sub-043\n",
            ".json file not found for sub-043\n",
            "Successfully loaded EEG data for sub-044\n",
            ".tsv file not found for sub-044\n",
            ".json file not found for sub-044\n"
          ]
        },
        {
          "output_type": "stream",
          "name": "stderr",
          "text": [
            "<ipython-input-3-33394355b129>:22: RuntimeWarning: The data contains 'boundary' events, indicating data discontinuities. Be cautious of filtering and epoching around these events.\n",
            "  raw = mne.io.read_raw_eeglab(set_file, preload=True)\n"
          ]
        },
        {
          "output_type": "stream",
          "name": "stdout",
          "text": [
            "Successfully loaded EEG data for sub-045\n",
            ".tsv file not found for sub-045\n",
            ".json file not found for sub-045\n"
          ]
        },
        {
          "output_type": "stream",
          "name": "stderr",
          "text": [
            "<ipython-input-3-33394355b129>:22: RuntimeWarning: The data contains 'boundary' events, indicating data discontinuities. Be cautious of filtering and epoching around these events.\n",
            "  raw = mne.io.read_raw_eeglab(set_file, preload=True)\n"
          ]
        },
        {
          "output_type": "stream",
          "name": "stdout",
          "text": [
            "Successfully loaded EEG data for sub-046\n",
            ".tsv file not found for sub-046\n",
            ".json file not found for sub-046\n"
          ]
        },
        {
          "output_type": "stream",
          "name": "stderr",
          "text": [
            "<ipython-input-3-33394355b129>:22: RuntimeWarning: The data contains 'boundary' events, indicating data discontinuities. Be cautious of filtering and epoching around these events.\n",
            "  raw = mne.io.read_raw_eeglab(set_file, preload=True)\n"
          ]
        },
        {
          "output_type": "stream",
          "name": "stdout",
          "text": [
            "Successfully loaded EEG data for sub-047\n",
            ".tsv file not found for sub-047\n",
            ".json file not found for sub-047\n"
          ]
        },
        {
          "output_type": "stream",
          "name": "stderr",
          "text": [
            "<ipython-input-3-33394355b129>:22: RuntimeWarning: The data contains 'boundary' events, indicating data discontinuities. Be cautious of filtering and epoching around these events.\n",
            "  raw = mne.io.read_raw_eeglab(set_file, preload=True)\n"
          ]
        },
        {
          "output_type": "stream",
          "name": "stdout",
          "text": [
            "Successfully loaded EEG data for sub-048\n",
            ".tsv file not found for sub-048\n",
            ".json file not found for sub-048\n"
          ]
        },
        {
          "output_type": "stream",
          "name": "stderr",
          "text": [
            "<ipython-input-3-33394355b129>:22: RuntimeWarning: The data contains 'boundary' events, indicating data discontinuities. Be cautious of filtering and epoching around these events.\n",
            "  raw = mne.io.read_raw_eeglab(set_file, preload=True)\n"
          ]
        },
        {
          "output_type": "stream",
          "name": "stdout",
          "text": [
            "Successfully loaded EEG data for sub-049\n",
            ".tsv file not found for sub-049\n",
            ".json file not found for sub-049\n"
          ]
        },
        {
          "output_type": "stream",
          "name": "stderr",
          "text": [
            "<ipython-input-3-33394355b129>:22: RuntimeWarning: The data contains 'boundary' events, indicating data discontinuities. Be cautious of filtering and epoching around these events.\n",
            "  raw = mne.io.read_raw_eeglab(set_file, preload=True)\n"
          ]
        },
        {
          "output_type": "stream",
          "name": "stdout",
          "text": [
            "Successfully loaded EEG data for sub-050\n",
            ".tsv file not found for sub-050\n",
            ".json file not found for sub-050\n"
          ]
        },
        {
          "output_type": "stream",
          "name": "stderr",
          "text": [
            "<ipython-input-3-33394355b129>:22: RuntimeWarning: The data contains 'boundary' events, indicating data discontinuities. Be cautious of filtering and epoching around these events.\n",
            "  raw = mne.io.read_raw_eeglab(set_file, preload=True)\n"
          ]
        },
        {
          "output_type": "stream",
          "name": "stdout",
          "text": [
            "Successfully loaded EEG data for sub-051\n",
            ".tsv file not found for sub-051\n",
            ".json file not found for sub-051\n"
          ]
        },
        {
          "output_type": "stream",
          "name": "stderr",
          "text": [
            "<ipython-input-3-33394355b129>:22: RuntimeWarning: The data contains 'boundary' events, indicating data discontinuities. Be cautious of filtering and epoching around these events.\n",
            "  raw = mne.io.read_raw_eeglab(set_file, preload=True)\n"
          ]
        },
        {
          "output_type": "stream",
          "name": "stdout",
          "text": [
            "Successfully loaded EEG data for sub-052\n",
            ".tsv file not found for sub-052\n",
            ".json file not found for sub-052\n"
          ]
        },
        {
          "output_type": "stream",
          "name": "stderr",
          "text": [
            "<ipython-input-3-33394355b129>:22: RuntimeWarning: The data contains 'boundary' events, indicating data discontinuities. Be cautious of filtering and epoching around these events.\n",
            "  raw = mne.io.read_raw_eeglab(set_file, preload=True)\n"
          ]
        },
        {
          "output_type": "stream",
          "name": "stdout",
          "text": [
            "Successfully loaded EEG data for sub-053\n",
            ".tsv file not found for sub-053\n",
            ".json file not found for sub-053\n"
          ]
        },
        {
          "output_type": "stream",
          "name": "stderr",
          "text": [
            "<ipython-input-3-33394355b129>:22: RuntimeWarning: The data contains 'boundary' events, indicating data discontinuities. Be cautious of filtering and epoching around these events.\n",
            "  raw = mne.io.read_raw_eeglab(set_file, preload=True)\n"
          ]
        },
        {
          "output_type": "stream",
          "name": "stdout",
          "text": [
            "Successfully loaded EEG data for sub-054\n",
            ".tsv file not found for sub-054\n",
            ".json file not found for sub-054\n"
          ]
        },
        {
          "output_type": "stream",
          "name": "stderr",
          "text": [
            "<ipython-input-3-33394355b129>:22: RuntimeWarning: The data contains 'boundary' events, indicating data discontinuities. Be cautious of filtering and epoching around these events.\n",
            "  raw = mne.io.read_raw_eeglab(set_file, preload=True)\n"
          ]
        },
        {
          "output_type": "stream",
          "name": "stdout",
          "text": [
            "Successfully loaded EEG data for sub-055\n",
            ".tsv file not found for sub-055\n",
            ".json file not found for sub-055\n"
          ]
        },
        {
          "output_type": "stream",
          "name": "stderr",
          "text": [
            "<ipython-input-3-33394355b129>:22: RuntimeWarning: The data contains 'boundary' events, indicating data discontinuities. Be cautious of filtering and epoching around these events.\n",
            "  raw = mne.io.read_raw_eeglab(set_file, preload=True)\n"
          ]
        },
        {
          "output_type": "stream",
          "name": "stdout",
          "text": [
            "Successfully loaded EEG data for sub-056\n",
            ".tsv file not found for sub-056\n",
            ".json file not found for sub-056\n",
            "Successfully loaded EEG data for sub-057\n",
            ".tsv file not found for sub-057\n",
            ".json file not found for sub-057\n"
          ]
        },
        {
          "output_type": "stream",
          "name": "stderr",
          "text": [
            "<ipython-input-3-33394355b129>:22: RuntimeWarning: The data contains 'boundary' events, indicating data discontinuities. Be cautious of filtering and epoching around these events.\n",
            "  raw = mne.io.read_raw_eeglab(set_file, preload=True)\n"
          ]
        },
        {
          "output_type": "stream",
          "name": "stdout",
          "text": [
            "Successfully loaded EEG data for sub-058\n",
            ".tsv file not found for sub-058\n",
            ".json file not found for sub-058\n"
          ]
        },
        {
          "output_type": "stream",
          "name": "stderr",
          "text": [
            "<ipython-input-3-33394355b129>:22: RuntimeWarning: The data contains 'boundary' events, indicating data discontinuities. Be cautious of filtering and epoching around these events.\n",
            "  raw = mne.io.read_raw_eeglab(set_file, preload=True)\n"
          ]
        },
        {
          "output_type": "stream",
          "name": "stdout",
          "text": [
            "Successfully loaded EEG data for sub-059\n",
            ".tsv file not found for sub-059\n",
            ".json file not found for sub-059\n"
          ]
        },
        {
          "output_type": "stream",
          "name": "stderr",
          "text": [
            "<ipython-input-3-33394355b129>:22: RuntimeWarning: The data contains 'boundary' events, indicating data discontinuities. Be cautious of filtering and epoching around these events.\n",
            "  raw = mne.io.read_raw_eeglab(set_file, preload=True)\n"
          ]
        },
        {
          "output_type": "stream",
          "name": "stdout",
          "text": [
            "Successfully loaded EEG data for sub-060\n",
            ".tsv file not found for sub-060\n",
            ".json file not found for sub-060\n"
          ]
        },
        {
          "output_type": "stream",
          "name": "stderr",
          "text": [
            "<ipython-input-3-33394355b129>:22: RuntimeWarning: The data contains 'boundary' events, indicating data discontinuities. Be cautious of filtering and epoching around these events.\n",
            "  raw = mne.io.read_raw_eeglab(set_file, preload=True)\n"
          ]
        },
        {
          "output_type": "stream",
          "name": "stdout",
          "text": [
            "Successfully loaded EEG data for sub-061\n",
            ".tsv file not found for sub-061\n",
            ".json file not found for sub-061\n"
          ]
        },
        {
          "output_type": "stream",
          "name": "stderr",
          "text": [
            "<ipython-input-3-33394355b129>:22: RuntimeWarning: The data contains 'boundary' events, indicating data discontinuities. Be cautious of filtering and epoching around these events.\n",
            "  raw = mne.io.read_raw_eeglab(set_file, preload=True)\n"
          ]
        },
        {
          "output_type": "stream",
          "name": "stdout",
          "text": [
            "Successfully loaded EEG data for sub-062\n",
            ".tsv file not found for sub-062\n",
            ".json file not found for sub-062\n"
          ]
        },
        {
          "output_type": "stream",
          "name": "stderr",
          "text": [
            "<ipython-input-3-33394355b129>:22: RuntimeWarning: The data contains 'boundary' events, indicating data discontinuities. Be cautious of filtering and epoching around these events.\n",
            "  raw = mne.io.read_raw_eeglab(set_file, preload=True)\n"
          ]
        },
        {
          "output_type": "stream",
          "name": "stdout",
          "text": [
            "Successfully loaded EEG data for sub-063\n",
            ".tsv file not found for sub-063\n",
            ".json file not found for sub-063\n"
          ]
        },
        {
          "output_type": "stream",
          "name": "stderr",
          "text": [
            "<ipython-input-3-33394355b129>:22: RuntimeWarning: The data contains 'boundary' events, indicating data discontinuities. Be cautious of filtering and epoching around these events.\n",
            "  raw = mne.io.read_raw_eeglab(set_file, preload=True)\n"
          ]
        },
        {
          "output_type": "stream",
          "name": "stdout",
          "text": [
            "Successfully loaded EEG data for sub-064\n",
            ".tsv file not found for sub-064\n",
            ".json file not found for sub-064\n",
            "Successfully loaded EEG data for sub-065\n",
            ".tsv file not found for sub-065\n",
            ".json file not found for sub-065\n",
            "Successfully loaded EEG data for sub-066\n",
            ".tsv file not found for sub-066\n",
            ".json file not found for sub-066\n"
          ]
        },
        {
          "output_type": "stream",
          "name": "stderr",
          "text": [
            "<ipython-input-3-33394355b129>:22: RuntimeWarning: The data contains 'boundary' events, indicating data discontinuities. Be cautious of filtering and epoching around these events.\n",
            "  raw = mne.io.read_raw_eeglab(set_file, preload=True)\n"
          ]
        },
        {
          "output_type": "stream",
          "name": "stdout",
          "text": [
            "Successfully loaded EEG data for sub-067\n",
            ".tsv file not found for sub-067\n",
            ".json file not found for sub-067\n",
            "Successfully loaded EEG data for sub-068\n",
            ".tsv file not found for sub-068\n",
            ".json file not found for sub-068\n"
          ]
        },
        {
          "output_type": "stream",
          "name": "stderr",
          "text": [
            "<ipython-input-3-33394355b129>:22: RuntimeWarning: The data contains 'boundary' events, indicating data discontinuities. Be cautious of filtering and epoching around these events.\n",
            "  raw = mne.io.read_raw_eeglab(set_file, preload=True)\n",
            "<ipython-input-3-33394355b129>:22: RuntimeWarning: The data contains 'boundary' events, indicating data discontinuities. Be cautious of filtering and epoching around these events.\n",
            "  raw = mne.io.read_raw_eeglab(set_file, preload=True)\n"
          ]
        },
        {
          "output_type": "stream",
          "name": "stdout",
          "text": [
            "Successfully loaded EEG data for sub-069\n",
            ".tsv file not found for sub-069\n",
            ".json file not found for sub-069\n",
            "Successfully loaded EEG data for sub-070\n",
            ".tsv file not found for sub-070\n",
            ".json file not found for sub-070\n"
          ]
        },
        {
          "output_type": "stream",
          "name": "stderr",
          "text": [
            "<ipython-input-3-33394355b129>:22: RuntimeWarning: The data contains 'boundary' events, indicating data discontinuities. Be cautious of filtering and epoching around these events.\n",
            "  raw = mne.io.read_raw_eeglab(set_file, preload=True)\n"
          ]
        },
        {
          "output_type": "stream",
          "name": "stdout",
          "text": [
            "Successfully loaded EEG data for sub-071\n",
            ".tsv file not found for sub-071\n",
            ".json file not found for sub-071\n"
          ]
        },
        {
          "output_type": "stream",
          "name": "stderr",
          "text": [
            "<ipython-input-3-33394355b129>:22: RuntimeWarning: The data contains 'boundary' events, indicating data discontinuities. Be cautious of filtering and epoching around these events.\n",
            "  raw = mne.io.read_raw_eeglab(set_file, preload=True)\n"
          ]
        },
        {
          "output_type": "stream",
          "name": "stdout",
          "text": [
            "Successfully loaded EEG data for sub-072\n",
            ".tsv file not found for sub-072\n",
            ".json file not found for sub-072\n"
          ]
        },
        {
          "output_type": "stream",
          "name": "stderr",
          "text": [
            "<ipython-input-3-33394355b129>:22: RuntimeWarning: The data contains 'boundary' events, indicating data discontinuities. Be cautious of filtering and epoching around these events.\n",
            "  raw = mne.io.read_raw_eeglab(set_file, preload=True)\n"
          ]
        },
        {
          "output_type": "stream",
          "name": "stdout",
          "text": [
            "Successfully loaded EEG data for sub-073\n",
            ".tsv file not found for sub-073\n",
            ".json file not found for sub-073\n"
          ]
        },
        {
          "output_type": "stream",
          "name": "stderr",
          "text": [
            "<ipython-input-3-33394355b129>:22: RuntimeWarning: The data contains 'boundary' events, indicating data discontinuities. Be cautious of filtering and epoching around these events.\n",
            "  raw = mne.io.read_raw_eeglab(set_file, preload=True)\n"
          ]
        },
        {
          "output_type": "stream",
          "name": "stdout",
          "text": [
            "Successfully loaded EEG data for sub-074\n",
            ".tsv file not found for sub-074\n",
            ".json file not found for sub-074\n"
          ]
        },
        {
          "output_type": "stream",
          "name": "stderr",
          "text": [
            "<ipython-input-3-33394355b129>:22: RuntimeWarning: The data contains 'boundary' events, indicating data discontinuities. Be cautious of filtering and epoching around these events.\n",
            "  raw = mne.io.read_raw_eeglab(set_file, preload=True)\n"
          ]
        },
        {
          "output_type": "stream",
          "name": "stdout",
          "text": [
            "Successfully loaded EEG data for sub-075\n",
            ".tsv file not found for sub-075\n",
            ".json file not found for sub-075\n",
            "Successfully loaded EEG data for sub-076\n",
            ".tsv file not found for sub-076\n",
            ".json file not found for sub-076\n"
          ]
        },
        {
          "output_type": "stream",
          "name": "stderr",
          "text": [
            "<ipython-input-3-33394355b129>:22: RuntimeWarning: The data contains 'boundary' events, indicating data discontinuities. Be cautious of filtering and epoching around these events.\n",
            "  raw = mne.io.read_raw_eeglab(set_file, preload=True)\n"
          ]
        },
        {
          "output_type": "stream",
          "name": "stdout",
          "text": [
            "Successfully loaded EEG data for sub-077\n",
            ".tsv file not found for sub-077\n",
            ".json file not found for sub-077\n"
          ]
        },
        {
          "output_type": "stream",
          "name": "stderr",
          "text": [
            "<ipython-input-3-33394355b129>:22: RuntimeWarning: The data contains 'boundary' events, indicating data discontinuities. Be cautious of filtering and epoching around these events.\n",
            "  raw = mne.io.read_raw_eeglab(set_file, preload=True)\n"
          ]
        },
        {
          "output_type": "stream",
          "name": "stdout",
          "text": [
            "Successfully loaded EEG data for sub-078\n",
            ".tsv file not found for sub-078\n",
            ".json file not found for sub-078\n"
          ]
        },
        {
          "output_type": "stream",
          "name": "stderr",
          "text": [
            "<ipython-input-3-33394355b129>:22: RuntimeWarning: The data contains 'boundary' events, indicating data discontinuities. Be cautious of filtering and epoching around these events.\n",
            "  raw = mne.io.read_raw_eeglab(set_file, preload=True)\n"
          ]
        },
        {
          "output_type": "stream",
          "name": "stdout",
          "text": [
            "Successfully loaded EEG data for sub-079\n",
            ".tsv file not found for sub-079\n",
            ".json file not found for sub-079\n"
          ]
        },
        {
          "output_type": "stream",
          "name": "stderr",
          "text": [
            "<ipython-input-3-33394355b129>:22: RuntimeWarning: The data contains 'boundary' events, indicating data discontinuities. Be cautious of filtering and epoching around these events.\n",
            "  raw = mne.io.read_raw_eeglab(set_file, preload=True)\n"
          ]
        },
        {
          "output_type": "stream",
          "name": "stdout",
          "text": [
            "Successfully loaded EEG data for sub-080\n",
            ".tsv file not found for sub-080\n",
            ".json file not found for sub-080\n"
          ]
        },
        {
          "output_type": "stream",
          "name": "stderr",
          "text": [
            "<ipython-input-3-33394355b129>:22: RuntimeWarning: The data contains 'boundary' events, indicating data discontinuities. Be cautious of filtering and epoching around these events.\n",
            "  raw = mne.io.read_raw_eeglab(set_file, preload=True)\n"
          ]
        },
        {
          "output_type": "stream",
          "name": "stdout",
          "text": [
            "Successfully loaded EEG data for sub-081\n",
            ".tsv file not found for sub-081\n",
            ".json file not found for sub-081\n",
            "Successfully loaded EEG data for sub-082\n",
            ".tsv file not found for sub-082\n",
            ".json file not found for sub-082\n",
            "Successfully loaded EEG data for sub-083\n",
            ".tsv file not found for sub-083\n",
            ".json file not found for sub-083\n",
            "Successfully loaded EEG data for sub-084\n",
            ".tsv file not found for sub-084\n",
            ".json file not found for sub-084\n"
          ]
        },
        {
          "output_type": "stream",
          "name": "stderr",
          "text": [
            "<ipython-input-3-33394355b129>:22: RuntimeWarning: The data contains 'boundary' events, indicating data discontinuities. Be cautious of filtering and epoching around these events.\n",
            "  raw = mne.io.read_raw_eeglab(set_file, preload=True)\n",
            "<ipython-input-3-33394355b129>:22: RuntimeWarning: The data contains 'boundary' events, indicating data discontinuities. Be cautious of filtering and epoching around these events.\n",
            "  raw = mne.io.read_raw_eeglab(set_file, preload=True)\n"
          ]
        },
        {
          "output_type": "stream",
          "name": "stdout",
          "text": [
            "Successfully loaded EEG data for sub-085\n",
            ".tsv file not found for sub-085\n",
            ".json file not found for sub-085\n",
            "Successfully loaded EEG data for sub-086\n",
            ".tsv file not found for sub-086\n",
            ".json file not found for sub-086\n"
          ]
        },
        {
          "output_type": "stream",
          "name": "stderr",
          "text": [
            "<ipython-input-3-33394355b129>:22: RuntimeWarning: The data contains 'boundary' events, indicating data discontinuities. Be cautious of filtering and epoching around these events.\n",
            "  raw = mne.io.read_raw_eeglab(set_file, preload=True)\n"
          ]
        },
        {
          "output_type": "stream",
          "name": "stdout",
          "text": [
            "Successfully loaded EEG data for sub-087\n",
            ".tsv file not found for sub-087\n",
            ".json file not found for sub-087\n",
            "Successfully loaded EEG data for sub-088\n",
            ".tsv file not found for sub-088\n",
            ".json file not found for sub-088\n"
          ]
        },
        {
          "output_type": "stream",
          "name": "stderr",
          "text": [
            "<ipython-input-3-33394355b129>:22: RuntimeWarning: The data contains 'boundary' events, indicating data discontinuities. Be cautious of filtering and epoching around these events.\n",
            "  raw = mne.io.read_raw_eeglab(set_file, preload=True)\n"
          ]
        }
      ]
    },
    {
      "cell_type": "code",
      "source": [
        "from scipy.stats import zscore\n",
        "import pandas as pd\n",
        "\n",
        "bands = {\n",
        "    'delta': (0.5, 4),\n",
        "    'theta': (4, 8),\n",
        "    'alpha': (8, 12),\n",
        "    'beta':  (12, 30),\n",
        "    'gamma': (30, 40),\n",
        "}\n",
        "\n",
        "filtered_data = {}\n",
        "\n",
        "# output_dir = \"/content/filtered_eeg_bands\"  # or any path\n",
        "# os.makedirs(output_dir, exist_ok=True)\n",
        "\n",
        "# for subject_id, info in eeg_data.items():\n",
        "#     raw = info.get('eeg')\n",
        "#     if raw is None:\n",
        "#         continue\n",
        "\n",
        "#     raw = raw.copy().pick(\"eeg\")\n",
        "\n",
        "#     for band_name, (l_freq, h_freq) in bands.items():\n",
        "#         try:\n",
        "#             raw_band = raw.copy().filter(l_freq=l_freq, h_freq=h_freq, verbose=False)\n",
        "#             data_array = raw_band.get_data()\n",
        "#             data_norm = zscore(data_array, axis=1)\n",
        "\n",
        "#             df = pd.DataFrame(data_norm.T, columns=raw_band.ch_names)\n",
        "\n",
        "#             # ✅ Save to disk as CSV\n",
        "#             save_path = os.path.join(output_dir, f\"{subject_id}_{band_name}.csv\")\n",
        "#             df.to_csv(save_path, index=False)\n",
        "\n",
        "#             print(f\"Saved {subject_id} {band_name} to {save_path}\")\n",
        "\n",
        "#         except Exception as e:\n",
        "#             print(f\"Error processing {subject_id} {band_name}: {e}\")\n",
        "\n"
      ],
      "metadata": {
        "colab": {
          "base_uri": "https://localhost:8080/",
          "height": 1000
        },
        "id": "QJiqVBuQdD0Z",
        "outputId": "086da581-d456-4686-ee7c-81a73fbc92f5"
      },
      "execution_count": 4,
      "outputs": [
        {
          "output_type": "stream",
          "name": "stdout",
          "text": [
            "Saved sub-001 delta to /content/filtered_eeg_bands/sub-001_delta.csv\n",
            "Saved sub-001 theta to /content/filtered_eeg_bands/sub-001_theta.csv\n",
            "Saved sub-001 alpha to /content/filtered_eeg_bands/sub-001_alpha.csv\n",
            "Saved sub-001 beta to /content/filtered_eeg_bands/sub-001_beta.csv\n",
            "Saved sub-001 gamma to /content/filtered_eeg_bands/sub-001_gamma.csv\n",
            "Saved sub-002 delta to /content/filtered_eeg_bands/sub-002_delta.csv\n",
            "Saved sub-002 theta to /content/filtered_eeg_bands/sub-002_theta.csv\n",
            "Saved sub-002 alpha to /content/filtered_eeg_bands/sub-002_alpha.csv\n",
            "Saved sub-002 beta to /content/filtered_eeg_bands/sub-002_beta.csv\n",
            "Saved sub-002 gamma to /content/filtered_eeg_bands/sub-002_gamma.csv\n",
            "Saved sub-003 delta to /content/filtered_eeg_bands/sub-003_delta.csv\n",
            "Saved sub-003 theta to /content/filtered_eeg_bands/sub-003_theta.csv\n",
            "Saved sub-003 alpha to /content/filtered_eeg_bands/sub-003_alpha.csv\n",
            "Saved sub-003 beta to /content/filtered_eeg_bands/sub-003_beta.csv\n",
            "Saved sub-003 gamma to /content/filtered_eeg_bands/sub-003_gamma.csv\n",
            "Saved sub-004 delta to /content/filtered_eeg_bands/sub-004_delta.csv\n",
            "Saved sub-004 theta to /content/filtered_eeg_bands/sub-004_theta.csv\n",
            "Saved sub-004 alpha to /content/filtered_eeg_bands/sub-004_alpha.csv\n",
            "Saved sub-004 beta to /content/filtered_eeg_bands/sub-004_beta.csv\n",
            "Saved sub-004 gamma to /content/filtered_eeg_bands/sub-004_gamma.csv\n",
            "Saved sub-005 delta to /content/filtered_eeg_bands/sub-005_delta.csv\n",
            "Saved sub-005 theta to /content/filtered_eeg_bands/sub-005_theta.csv\n",
            "Saved sub-005 alpha to /content/filtered_eeg_bands/sub-005_alpha.csv\n",
            "Saved sub-005 beta to /content/filtered_eeg_bands/sub-005_beta.csv\n",
            "Saved sub-005 gamma to /content/filtered_eeg_bands/sub-005_gamma.csv\n",
            "Saved sub-006 delta to /content/filtered_eeg_bands/sub-006_delta.csv\n",
            "Saved sub-006 theta to /content/filtered_eeg_bands/sub-006_theta.csv\n",
            "Saved sub-006 alpha to /content/filtered_eeg_bands/sub-006_alpha.csv\n",
            "Saved sub-006 beta to /content/filtered_eeg_bands/sub-006_beta.csv\n",
            "Saved sub-006 gamma to /content/filtered_eeg_bands/sub-006_gamma.csv\n",
            "Saved sub-007 delta to /content/filtered_eeg_bands/sub-007_delta.csv\n",
            "Saved sub-007 theta to /content/filtered_eeg_bands/sub-007_theta.csv\n",
            "Saved sub-007 alpha to /content/filtered_eeg_bands/sub-007_alpha.csv\n",
            "Saved sub-007 beta to /content/filtered_eeg_bands/sub-007_beta.csv\n",
            "Saved sub-007 gamma to /content/filtered_eeg_bands/sub-007_gamma.csv\n",
            "Saved sub-008 delta to /content/filtered_eeg_bands/sub-008_delta.csv\n",
            "Saved sub-008 theta to /content/filtered_eeg_bands/sub-008_theta.csv\n",
            "Saved sub-008 alpha to /content/filtered_eeg_bands/sub-008_alpha.csv\n",
            "Saved sub-008 beta to /content/filtered_eeg_bands/sub-008_beta.csv\n",
            "Saved sub-008 gamma to /content/filtered_eeg_bands/sub-008_gamma.csv\n",
            "Saved sub-009 delta to /content/filtered_eeg_bands/sub-009_delta.csv\n",
            "Saved sub-009 theta to /content/filtered_eeg_bands/sub-009_theta.csv\n",
            "Saved sub-009 alpha to /content/filtered_eeg_bands/sub-009_alpha.csv\n",
            "Saved sub-009 beta to /content/filtered_eeg_bands/sub-009_beta.csv\n",
            "Saved sub-009 gamma to /content/filtered_eeg_bands/sub-009_gamma.csv\n",
            "Saved sub-010 delta to /content/filtered_eeg_bands/sub-010_delta.csv\n",
            "Saved sub-010 theta to /content/filtered_eeg_bands/sub-010_theta.csv\n",
            "Saved sub-010 alpha to /content/filtered_eeg_bands/sub-010_alpha.csv\n",
            "Saved sub-010 beta to /content/filtered_eeg_bands/sub-010_beta.csv\n",
            "Saved sub-010 gamma to /content/filtered_eeg_bands/sub-010_gamma.csv\n",
            "Saved sub-011 delta to /content/filtered_eeg_bands/sub-011_delta.csv\n",
            "Saved sub-011 theta to /content/filtered_eeg_bands/sub-011_theta.csv\n",
            "Saved sub-011 alpha to /content/filtered_eeg_bands/sub-011_alpha.csv\n",
            "Saved sub-011 beta to /content/filtered_eeg_bands/sub-011_beta.csv\n",
            "Saved sub-011 gamma to /content/filtered_eeg_bands/sub-011_gamma.csv\n",
            "Saved sub-012 delta to /content/filtered_eeg_bands/sub-012_delta.csv\n",
            "Saved sub-012 theta to /content/filtered_eeg_bands/sub-012_theta.csv\n",
            "Saved sub-012 alpha to /content/filtered_eeg_bands/sub-012_alpha.csv\n",
            "Saved sub-012 beta to /content/filtered_eeg_bands/sub-012_beta.csv\n",
            "Saved sub-012 gamma to /content/filtered_eeg_bands/sub-012_gamma.csv\n",
            "Saved sub-013 delta to /content/filtered_eeg_bands/sub-013_delta.csv\n",
            "Saved sub-013 theta to /content/filtered_eeg_bands/sub-013_theta.csv\n",
            "Saved sub-013 alpha to /content/filtered_eeg_bands/sub-013_alpha.csv\n",
            "Saved sub-013 beta to /content/filtered_eeg_bands/sub-013_beta.csv\n",
            "Saved sub-013 gamma to /content/filtered_eeg_bands/sub-013_gamma.csv\n",
            "Saved sub-014 delta to /content/filtered_eeg_bands/sub-014_delta.csv\n",
            "Saved sub-014 theta to /content/filtered_eeg_bands/sub-014_theta.csv\n",
            "Saved sub-014 alpha to /content/filtered_eeg_bands/sub-014_alpha.csv\n",
            "Saved sub-014 beta to /content/filtered_eeg_bands/sub-014_beta.csv\n",
            "Saved sub-014 gamma to /content/filtered_eeg_bands/sub-014_gamma.csv\n",
            "Saved sub-015 delta to /content/filtered_eeg_bands/sub-015_delta.csv\n",
            "Saved sub-015 theta to /content/filtered_eeg_bands/sub-015_theta.csv\n",
            "Saved sub-015 alpha to /content/filtered_eeg_bands/sub-015_alpha.csv\n",
            "Saved sub-015 beta to /content/filtered_eeg_bands/sub-015_beta.csv\n",
            "Saved sub-015 gamma to /content/filtered_eeg_bands/sub-015_gamma.csv\n",
            "Saved sub-016 delta to /content/filtered_eeg_bands/sub-016_delta.csv\n",
            "Saved sub-016 theta to /content/filtered_eeg_bands/sub-016_theta.csv\n",
            "Saved sub-016 alpha to /content/filtered_eeg_bands/sub-016_alpha.csv\n",
            "Saved sub-016 beta to /content/filtered_eeg_bands/sub-016_beta.csv\n",
            "Saved sub-016 gamma to /content/filtered_eeg_bands/sub-016_gamma.csv\n",
            "Saved sub-017 delta to /content/filtered_eeg_bands/sub-017_delta.csv\n"
          ]
        },
        {
          "output_type": "error",
          "ename": "KeyboardInterrupt",
          "evalue": "",
          "traceback": [
            "\u001b[0;31m---------------------------------------------------------------------------\u001b[0m",
            "\u001b[0;31mKeyboardInterrupt\u001b[0m                         Traceback (most recent call last)",
            "\u001b[0;32m<ipython-input-4-c17a2202681d>\u001b[0m in \u001b[0;36m<cell line: 0>\u001b[0;34m()\u001b[0m\n\u001b[1;32m     32\u001b[0m             \u001b[0;31m# ✅ Save to disk as CSV\u001b[0m\u001b[0;34m\u001b[0m\u001b[0;34m\u001b[0m\u001b[0m\n\u001b[1;32m     33\u001b[0m             \u001b[0msave_path\u001b[0m \u001b[0;34m=\u001b[0m \u001b[0mos\u001b[0m\u001b[0;34m.\u001b[0m\u001b[0mpath\u001b[0m\u001b[0;34m.\u001b[0m\u001b[0mjoin\u001b[0m\u001b[0;34m(\u001b[0m\u001b[0moutput_dir\u001b[0m\u001b[0;34m,\u001b[0m \u001b[0;34mf\"{subject_id}_{band_name}.csv\"\u001b[0m\u001b[0;34m)\u001b[0m\u001b[0;34m\u001b[0m\u001b[0;34m\u001b[0m\u001b[0m\n\u001b[0;32m---> 34\u001b[0;31m             \u001b[0mdf\u001b[0m\u001b[0;34m.\u001b[0m\u001b[0mto_csv\u001b[0m\u001b[0;34m(\u001b[0m\u001b[0msave_path\u001b[0m\u001b[0;34m,\u001b[0m \u001b[0mindex\u001b[0m\u001b[0;34m=\u001b[0m\u001b[0;32mFalse\u001b[0m\u001b[0;34m)\u001b[0m\u001b[0;34m\u001b[0m\u001b[0;34m\u001b[0m\u001b[0m\n\u001b[0m\u001b[1;32m     35\u001b[0m \u001b[0;34m\u001b[0m\u001b[0m\n\u001b[1;32m     36\u001b[0m             \u001b[0mprint\u001b[0m\u001b[0;34m(\u001b[0m\u001b[0;34mf\"Saved {subject_id} {band_name} to {save_path}\"\u001b[0m\u001b[0;34m)\u001b[0m\u001b[0;34m\u001b[0m\u001b[0;34m\u001b[0m\u001b[0m\n",
            "\u001b[0;32m/usr/local/lib/python3.11/dist-packages/pandas/util/_decorators.py\u001b[0m in \u001b[0;36mwrapper\u001b[0;34m(*args, **kwargs)\u001b[0m\n\u001b[1;32m    331\u001b[0m                     \u001b[0mstacklevel\u001b[0m\u001b[0;34m=\u001b[0m\u001b[0mfind_stack_level\u001b[0m\u001b[0;34m(\u001b[0m\u001b[0;34m)\u001b[0m\u001b[0;34m,\u001b[0m\u001b[0;34m\u001b[0m\u001b[0;34m\u001b[0m\u001b[0m\n\u001b[1;32m    332\u001b[0m                 )\n\u001b[0;32m--> 333\u001b[0;31m             \u001b[0;32mreturn\u001b[0m \u001b[0mfunc\u001b[0m\u001b[0;34m(\u001b[0m\u001b[0;34m*\u001b[0m\u001b[0margs\u001b[0m\u001b[0;34m,\u001b[0m \u001b[0;34m**\u001b[0m\u001b[0mkwargs\u001b[0m\u001b[0;34m)\u001b[0m\u001b[0;34m\u001b[0m\u001b[0;34m\u001b[0m\u001b[0m\n\u001b[0m\u001b[1;32m    334\u001b[0m \u001b[0;34m\u001b[0m\u001b[0m\n\u001b[1;32m    335\u001b[0m         \u001b[0;31m# error: \"Callable[[VarArg(Any), KwArg(Any)], Any]\" has no\u001b[0m\u001b[0;34m\u001b[0m\u001b[0;34m\u001b[0m\u001b[0m\n",
            "\u001b[0;32m/usr/local/lib/python3.11/dist-packages/pandas/core/generic.py\u001b[0m in \u001b[0;36mto_csv\u001b[0;34m(self, path_or_buf, sep, na_rep, float_format, columns, header, index, index_label, mode, encoding, compression, quoting, quotechar, lineterminator, chunksize, date_format, doublequote, escapechar, decimal, errors, storage_options)\u001b[0m\n\u001b[1;32m   3965\u001b[0m         )\n\u001b[1;32m   3966\u001b[0m \u001b[0;34m\u001b[0m\u001b[0m\n\u001b[0;32m-> 3967\u001b[0;31m         return DataFrameRenderer(formatter).to_csv(\n\u001b[0m\u001b[1;32m   3968\u001b[0m             \u001b[0mpath_or_buf\u001b[0m\u001b[0;34m,\u001b[0m\u001b[0;34m\u001b[0m\u001b[0;34m\u001b[0m\u001b[0m\n\u001b[1;32m   3969\u001b[0m             \u001b[0mlineterminator\u001b[0m\u001b[0;34m=\u001b[0m\u001b[0mlineterminator\u001b[0m\u001b[0;34m,\u001b[0m\u001b[0;34m\u001b[0m\u001b[0;34m\u001b[0m\u001b[0m\n",
            "\u001b[0;32m/usr/local/lib/python3.11/dist-packages/pandas/io/formats/format.py\u001b[0m in \u001b[0;36mto_csv\u001b[0;34m(self, path_or_buf, encoding, sep, columns, index_label, mode, compression, quoting, quotechar, lineterminator, chunksize, date_format, doublequote, escapechar, errors, storage_options)\u001b[0m\n\u001b[1;32m   1012\u001b[0m             \u001b[0mformatter\u001b[0m\u001b[0;34m=\u001b[0m\u001b[0mself\u001b[0m\u001b[0;34m.\u001b[0m\u001b[0mfmt\u001b[0m\u001b[0;34m,\u001b[0m\u001b[0;34m\u001b[0m\u001b[0;34m\u001b[0m\u001b[0m\n\u001b[1;32m   1013\u001b[0m         )\n\u001b[0;32m-> 1014\u001b[0;31m         \u001b[0mcsv_formatter\u001b[0m\u001b[0;34m.\u001b[0m\u001b[0msave\u001b[0m\u001b[0;34m(\u001b[0m\u001b[0;34m)\u001b[0m\u001b[0;34m\u001b[0m\u001b[0;34m\u001b[0m\u001b[0m\n\u001b[0m\u001b[1;32m   1015\u001b[0m \u001b[0;34m\u001b[0m\u001b[0m\n\u001b[1;32m   1016\u001b[0m         \u001b[0;32mif\u001b[0m \u001b[0mcreated_buffer\u001b[0m\u001b[0;34m:\u001b[0m\u001b[0;34m\u001b[0m\u001b[0;34m\u001b[0m\u001b[0m\n",
            "\u001b[0;32m/usr/local/lib/python3.11/dist-packages/pandas/io/formats/csvs.py\u001b[0m in \u001b[0;36msave\u001b[0;34m(self)\u001b[0m\n\u001b[1;32m    268\u001b[0m             )\n\u001b[1;32m    269\u001b[0m \u001b[0;34m\u001b[0m\u001b[0m\n\u001b[0;32m--> 270\u001b[0;31m             \u001b[0mself\u001b[0m\u001b[0;34m.\u001b[0m\u001b[0m_save\u001b[0m\u001b[0;34m(\u001b[0m\u001b[0;34m)\u001b[0m\u001b[0;34m\u001b[0m\u001b[0;34m\u001b[0m\u001b[0m\n\u001b[0m\u001b[1;32m    271\u001b[0m \u001b[0;34m\u001b[0m\u001b[0m\n\u001b[1;32m    272\u001b[0m     \u001b[0;32mdef\u001b[0m \u001b[0m_save\u001b[0m\u001b[0;34m(\u001b[0m\u001b[0mself\u001b[0m\u001b[0;34m)\u001b[0m \u001b[0;34m->\u001b[0m \u001b[0;32mNone\u001b[0m\u001b[0;34m:\u001b[0m\u001b[0;34m\u001b[0m\u001b[0;34m\u001b[0m\u001b[0m\n",
            "\u001b[0;32m/usr/local/lib/python3.11/dist-packages/pandas/io/formats/csvs.py\u001b[0m in \u001b[0;36m_save\u001b[0;34m(self)\u001b[0m\n\u001b[1;32m    273\u001b[0m         \u001b[0;32mif\u001b[0m \u001b[0mself\u001b[0m\u001b[0;34m.\u001b[0m\u001b[0m_need_to_save_header\u001b[0m\u001b[0;34m:\u001b[0m\u001b[0;34m\u001b[0m\u001b[0;34m\u001b[0m\u001b[0m\n\u001b[1;32m    274\u001b[0m             \u001b[0mself\u001b[0m\u001b[0;34m.\u001b[0m\u001b[0m_save_header\u001b[0m\u001b[0;34m(\u001b[0m\u001b[0;34m)\u001b[0m\u001b[0;34m\u001b[0m\u001b[0;34m\u001b[0m\u001b[0m\n\u001b[0;32m--> 275\u001b[0;31m         \u001b[0mself\u001b[0m\u001b[0;34m.\u001b[0m\u001b[0m_save_body\u001b[0m\u001b[0;34m(\u001b[0m\u001b[0;34m)\u001b[0m\u001b[0;34m\u001b[0m\u001b[0;34m\u001b[0m\u001b[0m\n\u001b[0m\u001b[1;32m    276\u001b[0m \u001b[0;34m\u001b[0m\u001b[0m\n\u001b[1;32m    277\u001b[0m     \u001b[0;32mdef\u001b[0m \u001b[0m_save_header\u001b[0m\u001b[0;34m(\u001b[0m\u001b[0mself\u001b[0m\u001b[0;34m)\u001b[0m \u001b[0;34m->\u001b[0m \u001b[0;32mNone\u001b[0m\u001b[0;34m:\u001b[0m\u001b[0;34m\u001b[0m\u001b[0;34m\u001b[0m\u001b[0m\n",
            "\u001b[0;32m/usr/local/lib/python3.11/dist-packages/pandas/io/formats/csvs.py\u001b[0m in \u001b[0;36m_save_body\u001b[0;34m(self)\u001b[0m\n\u001b[1;32m    311\u001b[0m             \u001b[0;32mif\u001b[0m \u001b[0mstart_i\u001b[0m \u001b[0;34m>=\u001b[0m \u001b[0mend_i\u001b[0m\u001b[0;34m:\u001b[0m\u001b[0;34m\u001b[0m\u001b[0;34m\u001b[0m\u001b[0m\n\u001b[1;32m    312\u001b[0m                 \u001b[0;32mbreak\u001b[0m\u001b[0;34m\u001b[0m\u001b[0;34m\u001b[0m\u001b[0m\n\u001b[0;32m--> 313\u001b[0;31m             \u001b[0mself\u001b[0m\u001b[0;34m.\u001b[0m\u001b[0m_save_chunk\u001b[0m\u001b[0;34m(\u001b[0m\u001b[0mstart_i\u001b[0m\u001b[0;34m,\u001b[0m \u001b[0mend_i\u001b[0m\u001b[0;34m)\u001b[0m\u001b[0;34m\u001b[0m\u001b[0;34m\u001b[0m\u001b[0m\n\u001b[0m\u001b[1;32m    314\u001b[0m \u001b[0;34m\u001b[0m\u001b[0m\n\u001b[1;32m    315\u001b[0m     \u001b[0;32mdef\u001b[0m \u001b[0m_save_chunk\u001b[0m\u001b[0;34m(\u001b[0m\u001b[0mself\u001b[0m\u001b[0;34m,\u001b[0m \u001b[0mstart_i\u001b[0m\u001b[0;34m:\u001b[0m \u001b[0mint\u001b[0m\u001b[0;34m,\u001b[0m \u001b[0mend_i\u001b[0m\u001b[0;34m:\u001b[0m \u001b[0mint\u001b[0m\u001b[0;34m)\u001b[0m \u001b[0;34m->\u001b[0m \u001b[0;32mNone\u001b[0m\u001b[0;34m:\u001b[0m\u001b[0;34m\u001b[0m\u001b[0;34m\u001b[0m\u001b[0m\n",
            "\u001b[0;32m/usr/local/lib/python3.11/dist-packages/pandas/io/formats/csvs.py\u001b[0m in \u001b[0;36m_save_chunk\u001b[0;34m(self, start_i, end_i)\u001b[0m\n\u001b[1;32m    322\u001b[0m \u001b[0;34m\u001b[0m\u001b[0m\n\u001b[1;32m    323\u001b[0m         \u001b[0mix\u001b[0m \u001b[0;34m=\u001b[0m \u001b[0mself\u001b[0m\u001b[0;34m.\u001b[0m\u001b[0mdata_index\u001b[0m\u001b[0;34m[\u001b[0m\u001b[0mslicer\u001b[0m\u001b[0;34m]\u001b[0m\u001b[0;34m.\u001b[0m\u001b[0m_get_values_for_csv\u001b[0m\u001b[0;34m(\u001b[0m\u001b[0;34m**\u001b[0m\u001b[0mself\u001b[0m\u001b[0;34m.\u001b[0m\u001b[0m_number_format\u001b[0m\u001b[0;34m)\u001b[0m\u001b[0;34m\u001b[0m\u001b[0;34m\u001b[0m\u001b[0m\n\u001b[0;32m--> 324\u001b[0;31m         libwriters.write_csv_rows(\n\u001b[0m\u001b[1;32m    325\u001b[0m             \u001b[0mdata\u001b[0m\u001b[0;34m,\u001b[0m\u001b[0;34m\u001b[0m\u001b[0;34m\u001b[0m\u001b[0m\n\u001b[1;32m    326\u001b[0m             \u001b[0mix\u001b[0m\u001b[0;34m,\u001b[0m\u001b[0;34m\u001b[0m\u001b[0;34m\u001b[0m\u001b[0m\n",
            "\u001b[0;32mwriters.pyx\u001b[0m in \u001b[0;36mpandas._libs.writers.write_csv_rows\u001b[0;34m()\u001b[0m\n",
            "\u001b[0;31mKeyboardInterrupt\u001b[0m: "
          ]
        }
      ]
    },
    {
      "cell_type": "markdown",
      "source": [
        "compute PLV"
      ],
      "metadata": {
        "id": "06h6p5cml9QZ"
      }
    },
    {
      "cell_type": "code",
      "source": [
        "import numpy as np\n",
        "from scipy.signal import hilbert\n",
        "\n",
        "def compute_plv(df):\n",
        "    n_channels = df.shape[1]\n",
        "    plv_matrix = np.zeros((n_channels, n_channels))\n",
        "\n",
        "    for i in range(n_channels):\n",
        "        for j in range(i + 1, n_channels):\n",
        "            phase_i = np.angle(hilbert(df.iloc[:, i]))\n",
        "            phase_j = np.angle(hilbert(df.iloc[:, j]))\n",
        "            plv = np.abs(np.mean(np.exp(1j * (phase_i - phase_j))))\n",
        "            plv_matrix[i, j] = plv\n",
        "            plv_matrix[j, i] = plv\n",
        "    np.fill_diagonal(plv_matrix, 1.0)\n",
        "    return plv_matrix\n"
      ],
      "metadata": {
        "id": "lyRh1AiDl8Pr"
      },
      "execution_count": 5,
      "outputs": []
    },
    {
      "cell_type": "code",
      "source": [
        "from scipy.stats import zscore\n",
        "import os\n",
        "import pandas as pd\n",
        "\n",
        "bands = {\n",
        "    'delta': (0.5, 4),\n",
        "    'theta': (4, 8),\n",
        "    'alpha': (8, 12),\n",
        "    'beta':  (12, 30),\n",
        "    'gamma': (30, 40),\n",
        "}\n",
        "\n",
        "plv_output_dir = \"/content/plv_matrices\"\n",
        "os.makedirs(plv_output_dir, exist_ok=True)\n",
        "\n",
        "for subject_id, info in eeg_data.items():\n",
        "    raw = info.get('eeg')\n",
        "    if raw is None:\n",
        "        continue\n",
        "\n",
        "    print(f\"Processing {subject_id}\")\n",
        "    raw = raw.copy().pick(\"eeg\")\n",
        "\n",
        "    for band_name, (l_freq, h_freq) in bands.items():\n",
        "        try:\n",
        "            raw_band = raw.copy().filter(l_freq=l_freq, h_freq=h_freq, verbose=False)\n",
        "            data_array = raw_band.get_data()\n",
        "            data_norm = zscore(data_array, axis=1)\n",
        "            df = pd.DataFrame(data_norm.T, columns=raw_band.ch_names)\n",
        "\n",
        "            # ✅ Compute PLV directly here\n",
        "            plv_matrix = compute_plv(df)\n",
        "\n",
        "            # ✅ Save PLV matrix\n",
        "            save_path = os.path.join(plv_output_dir, f\"{subject_id}_{band_name}_plv.npy\")\n",
        "            np.save(save_path, plv_matrix)\n",
        "\n",
        "            print(f\"Saved PLV for {subject_id} {band_name} to {save_path}\")\n",
        "\n",
        "        except Exception as e:\n",
        "            print(f\"Error processing {subject_id} {band_name}: {e}\")\n"
      ],
      "metadata": {
        "colab": {
          "base_uri": "https://localhost:8080/",
          "height": 564
        },
        "id": "uM8rOS7pl-3n",
        "outputId": "82c330c1-daa3-4057-d228-122a3f12b72c"
      },
      "execution_count": 9,
      "outputs": [
        {
          "output_type": "stream",
          "name": "stdout",
          "text": [
            "Processing sub-001\n",
            "Saved PLV for sub-001 delta to /content/plv_matrices/sub-001_delta_plv.npy\n",
            "Saved PLV for sub-001 theta to /content/plv_matrices/sub-001_theta_plv.npy\n",
            "Saved PLV for sub-001 alpha to /content/plv_matrices/sub-001_alpha_plv.npy\n",
            "Saved PLV for sub-001 beta to /content/plv_matrices/sub-001_beta_plv.npy\n",
            "Saved PLV for sub-001 gamma to /content/plv_matrices/sub-001_gamma_plv.npy\n",
            "Processing sub-002\n",
            "Saved PLV for sub-002 delta to /content/plv_matrices/sub-002_delta_plv.npy\n",
            "Saved PLV for sub-002 theta to /content/plv_matrices/sub-002_theta_plv.npy\n",
            "Saved PLV for sub-002 alpha to /content/plv_matrices/sub-002_alpha_plv.npy\n",
            "Saved PLV for sub-002 beta to /content/plv_matrices/sub-002_beta_plv.npy\n"
          ]
        },
        {
          "output_type": "error",
          "ename": "KeyboardInterrupt",
          "evalue": "",
          "traceback": [
            "\u001b[0;31m---------------------------------------------------------------------------\u001b[0m",
            "\u001b[0;31mKeyboardInterrupt\u001b[0m                         Traceback (most recent call last)",
            "\u001b[0;32m<ipython-input-9-bf1c6969f9e1>\u001b[0m in \u001b[0;36m<cell line: 0>\u001b[0;34m()\u001b[0m\n\u001b[1;32m     30\u001b[0m \u001b[0;34m\u001b[0m\u001b[0m\n\u001b[1;32m     31\u001b[0m             \u001b[0;31m# ✅ Compute PLV directly here\u001b[0m\u001b[0;34m\u001b[0m\u001b[0;34m\u001b[0m\u001b[0m\n\u001b[0;32m---> 32\u001b[0;31m             \u001b[0mplv_matrix\u001b[0m \u001b[0;34m=\u001b[0m \u001b[0mcompute_plv\u001b[0m\u001b[0;34m(\u001b[0m\u001b[0mdf\u001b[0m\u001b[0;34m)\u001b[0m\u001b[0;34m\u001b[0m\u001b[0;34m\u001b[0m\u001b[0m\n\u001b[0m\u001b[1;32m     33\u001b[0m \u001b[0;34m\u001b[0m\u001b[0m\n\u001b[1;32m     34\u001b[0m             \u001b[0;31m# ✅ Save PLV matrix\u001b[0m\u001b[0;34m\u001b[0m\u001b[0;34m\u001b[0m\u001b[0m\n",
            "\u001b[0;32m<ipython-input-8-46d2ee7d8f57>\u001b[0m in \u001b[0;36mcompute_plv\u001b[0;34m(df)\u001b[0m\n\u001b[1;32m     12\u001b[0m     \u001b[0;32mfor\u001b[0m \u001b[0mi\u001b[0m \u001b[0;32min\u001b[0m \u001b[0mrange\u001b[0m\u001b[0;34m(\u001b[0m\u001b[0mn_channels\u001b[0m\u001b[0;34m)\u001b[0m\u001b[0;34m:\u001b[0m\u001b[0;34m\u001b[0m\u001b[0;34m\u001b[0m\u001b[0m\n\u001b[1;32m     13\u001b[0m         \u001b[0;32mfor\u001b[0m \u001b[0mj\u001b[0m \u001b[0;32min\u001b[0m \u001b[0mrange\u001b[0m\u001b[0;34m(\u001b[0m\u001b[0mi\u001b[0m \u001b[0;34m+\u001b[0m \u001b[0;36m1\u001b[0m\u001b[0;34m,\u001b[0m \u001b[0mn_channels\u001b[0m\u001b[0;34m)\u001b[0m\u001b[0;34m:\u001b[0m\u001b[0;34m\u001b[0m\u001b[0;34m\u001b[0m\u001b[0m\n\u001b[0;32m---> 14\u001b[0;31m             \u001b[0mphase_i\u001b[0m \u001b[0;34m=\u001b[0m \u001b[0mnp\u001b[0m\u001b[0;34m.\u001b[0m\u001b[0mangle\u001b[0m\u001b[0;34m(\u001b[0m\u001b[0mhilbert\u001b[0m\u001b[0;34m(\u001b[0m\u001b[0mdf\u001b[0m\u001b[0;34m.\u001b[0m\u001b[0miloc\u001b[0m\u001b[0;34m[\u001b[0m\u001b[0;34m:\u001b[0m\u001b[0;34m,\u001b[0m \u001b[0mi\u001b[0m\u001b[0;34m]\u001b[0m\u001b[0;34m)\u001b[0m\u001b[0;34m)\u001b[0m\u001b[0;34m\u001b[0m\u001b[0;34m\u001b[0m\u001b[0m\n\u001b[0m\u001b[1;32m     15\u001b[0m             \u001b[0mphase_j\u001b[0m \u001b[0;34m=\u001b[0m \u001b[0mnp\u001b[0m\u001b[0;34m.\u001b[0m\u001b[0mangle\u001b[0m\u001b[0;34m(\u001b[0m\u001b[0mhilbert\u001b[0m\u001b[0;34m(\u001b[0m\u001b[0mdf\u001b[0m\u001b[0;34m.\u001b[0m\u001b[0miloc\u001b[0m\u001b[0;34m[\u001b[0m\u001b[0;34m:\u001b[0m\u001b[0;34m,\u001b[0m \u001b[0mj\u001b[0m\u001b[0;34m]\u001b[0m\u001b[0;34m)\u001b[0m\u001b[0;34m)\u001b[0m\u001b[0;34m\u001b[0m\u001b[0;34m\u001b[0m\u001b[0m\n\u001b[1;32m     16\u001b[0m             \u001b[0mplv\u001b[0m \u001b[0;34m=\u001b[0m \u001b[0mnp\u001b[0m\u001b[0;34m.\u001b[0m\u001b[0mabs\u001b[0m\u001b[0;34m(\u001b[0m\u001b[0mnp\u001b[0m\u001b[0;34m.\u001b[0m\u001b[0mmean\u001b[0m\u001b[0;34m(\u001b[0m\u001b[0mnp\u001b[0m\u001b[0;34m.\u001b[0m\u001b[0mexp\u001b[0m\u001b[0;34m(\u001b[0m\u001b[0;36m1j\u001b[0m \u001b[0;34m*\u001b[0m \u001b[0;34m(\u001b[0m\u001b[0mphase_i\u001b[0m \u001b[0;34m-\u001b[0m \u001b[0mphase_j\u001b[0m\u001b[0;34m)\u001b[0m\u001b[0;34m)\u001b[0m\u001b[0;34m)\u001b[0m\u001b[0;34m)\u001b[0m\u001b[0;34m\u001b[0m\u001b[0;34m\u001b[0m\u001b[0m\n",
            "\u001b[0;32m/usr/local/lib/python3.11/dist-packages/scipy/signal/_signaltools.py\u001b[0m in \u001b[0;36mhilbert\u001b[0;34m(x, N, axis)\u001b[0m\n\u001b[1;32m   2378\u001b[0m         \u001b[0;32mraise\u001b[0m \u001b[0mValueError\u001b[0m\u001b[0;34m(\u001b[0m\u001b[0;34m\"N must be positive.\"\u001b[0m\u001b[0;34m)\u001b[0m\u001b[0;34m\u001b[0m\u001b[0;34m\u001b[0m\u001b[0m\n\u001b[1;32m   2379\u001b[0m \u001b[0;34m\u001b[0m\u001b[0m\n\u001b[0;32m-> 2380\u001b[0;31m     \u001b[0mXf\u001b[0m \u001b[0;34m=\u001b[0m \u001b[0msp_fft\u001b[0m\u001b[0;34m.\u001b[0m\u001b[0mfft\u001b[0m\u001b[0;34m(\u001b[0m\u001b[0mx\u001b[0m\u001b[0;34m,\u001b[0m \u001b[0mN\u001b[0m\u001b[0;34m,\u001b[0m \u001b[0maxis\u001b[0m\u001b[0;34m=\u001b[0m\u001b[0maxis\u001b[0m\u001b[0;34m)\u001b[0m\u001b[0;34m\u001b[0m\u001b[0;34m\u001b[0m\u001b[0m\n\u001b[0m\u001b[1;32m   2381\u001b[0m     \u001b[0mh\u001b[0m \u001b[0;34m=\u001b[0m \u001b[0mnp\u001b[0m\u001b[0;34m.\u001b[0m\u001b[0mzeros\u001b[0m\u001b[0;34m(\u001b[0m\u001b[0mN\u001b[0m\u001b[0;34m,\u001b[0m \u001b[0mdtype\u001b[0m\u001b[0;34m=\u001b[0m\u001b[0mXf\u001b[0m\u001b[0;34m.\u001b[0m\u001b[0mdtype\u001b[0m\u001b[0;34m)\u001b[0m\u001b[0;34m\u001b[0m\u001b[0;34m\u001b[0m\u001b[0m\n\u001b[1;32m   2382\u001b[0m     \u001b[0;32mif\u001b[0m \u001b[0mN\u001b[0m \u001b[0;34m%\u001b[0m \u001b[0;36m2\u001b[0m \u001b[0;34m==\u001b[0m \u001b[0;36m0\u001b[0m\u001b[0;34m:\u001b[0m\u001b[0;34m\u001b[0m\u001b[0;34m\u001b[0m\u001b[0m\n",
            "\u001b[0;32m/usr/local/lib/python3.11/dist-packages/scipy/fft/_backend.py\u001b[0m in \u001b[0;36m__ua_function__\u001b[0;34m(method, args, kwargs)\u001b[0m\n\u001b[1;32m     26\u001b[0m         \u001b[0;32mif\u001b[0m \u001b[0mfn\u001b[0m \u001b[0;32mis\u001b[0m \u001b[0;32mNone\u001b[0m\u001b[0;34m:\u001b[0m\u001b[0;34m\u001b[0m\u001b[0;34m\u001b[0m\u001b[0m\n\u001b[1;32m     27\u001b[0m             \u001b[0;32mreturn\u001b[0m \u001b[0mNotImplemented\u001b[0m\u001b[0;34m\u001b[0m\u001b[0;34m\u001b[0m\u001b[0m\n\u001b[0;32m---> 28\u001b[0;31m         \u001b[0;32mreturn\u001b[0m \u001b[0mfn\u001b[0m\u001b[0;34m(\u001b[0m\u001b[0;34m*\u001b[0m\u001b[0margs\u001b[0m\u001b[0;34m,\u001b[0m \u001b[0;34m**\u001b[0m\u001b[0mkwargs\u001b[0m\u001b[0;34m)\u001b[0m\u001b[0;34m\u001b[0m\u001b[0;34m\u001b[0m\u001b[0m\n\u001b[0m\u001b[1;32m     29\u001b[0m \u001b[0;34m\u001b[0m\u001b[0m\n\u001b[1;32m     30\u001b[0m \u001b[0;34m\u001b[0m\u001b[0m\n",
            "\u001b[0;32m/usr/local/lib/python3.11/dist-packages/scipy/fft/_basic_backend.py\u001b[0m in \u001b[0;36mfft\u001b[0;34m(x, n, axis, norm, overwrite_x, workers, plan)\u001b[0m\n\u001b[1;32m     60\u001b[0m def fft(x, n=None, axis=-1, norm=None,\n\u001b[1;32m     61\u001b[0m         overwrite_x=False, workers=None, *, plan=None):\n\u001b[0;32m---> 62\u001b[0;31m     return _execute_1D('fft', _pocketfft.fft, x, n=n, axis=axis, norm=norm,\n\u001b[0m\u001b[1;32m     63\u001b[0m                        overwrite_x=overwrite_x, workers=workers, plan=plan)\n\u001b[1;32m     64\u001b[0m \u001b[0;34m\u001b[0m\u001b[0m\n",
            "\u001b[0;32m/usr/local/lib/python3.11/dist-packages/scipy/fft/_basic_backend.py\u001b[0m in \u001b[0;36m_execute_1D\u001b[0;34m(func_str, pocketfft_func, x, n, axis, norm, overwrite_x, workers, plan)\u001b[0m\n\u001b[1;32m     27\u001b[0m     \u001b[0;32mif\u001b[0m \u001b[0mis_numpy\u001b[0m\u001b[0;34m(\u001b[0m\u001b[0mxp\u001b[0m\u001b[0;34m)\u001b[0m\u001b[0;34m:\u001b[0m\u001b[0;34m\u001b[0m\u001b[0;34m\u001b[0m\u001b[0m\n\u001b[1;32m     28\u001b[0m         \u001b[0mx\u001b[0m \u001b[0;34m=\u001b[0m \u001b[0mnp\u001b[0m\u001b[0;34m.\u001b[0m\u001b[0masarray\u001b[0m\u001b[0;34m(\u001b[0m\u001b[0mx\u001b[0m\u001b[0;34m)\u001b[0m\u001b[0;34m\u001b[0m\u001b[0;34m\u001b[0m\u001b[0m\n\u001b[0;32m---> 29\u001b[0;31m         return pocketfft_func(x, n=n, axis=axis, norm=norm,\n\u001b[0m\u001b[1;32m     30\u001b[0m                               overwrite_x=overwrite_x, workers=workers, plan=plan)\n\u001b[1;32m     31\u001b[0m \u001b[0;34m\u001b[0m\u001b[0m\n",
            "\u001b[0;32m/usr/local/lib/python3.11/dist-packages/scipy/fft/_pocketfft/basic.py\u001b[0m in \u001b[0;36mc2c\u001b[0;34m(forward, x, n, axis, norm, overwrite_x, workers, plan)\u001b[0m\n\u001b[1;32m     29\u001b[0m     \u001b[0mout\u001b[0m \u001b[0;34m=\u001b[0m \u001b[0;34m(\u001b[0m\u001b[0mtmp\u001b[0m \u001b[0;32mif\u001b[0m \u001b[0moverwrite_x\u001b[0m \u001b[0;32mand\u001b[0m \u001b[0mtmp\u001b[0m\u001b[0;34m.\u001b[0m\u001b[0mdtype\u001b[0m\u001b[0;34m.\u001b[0m\u001b[0mkind\u001b[0m \u001b[0;34m==\u001b[0m \u001b[0;34m'c'\u001b[0m \u001b[0;32melse\u001b[0m \u001b[0;32mNone\u001b[0m\u001b[0;34m)\u001b[0m\u001b[0;34m\u001b[0m\u001b[0;34m\u001b[0m\u001b[0m\n\u001b[1;32m     30\u001b[0m \u001b[0;34m\u001b[0m\u001b[0m\n\u001b[0;32m---> 31\u001b[0;31m     \u001b[0;32mreturn\u001b[0m \u001b[0mpfft\u001b[0m\u001b[0;34m.\u001b[0m\u001b[0mc2c\u001b[0m\u001b[0;34m(\u001b[0m\u001b[0mtmp\u001b[0m\u001b[0;34m,\u001b[0m \u001b[0;34m(\u001b[0m\u001b[0maxis\u001b[0m\u001b[0;34m,\u001b[0m\u001b[0;34m)\u001b[0m\u001b[0;34m,\u001b[0m \u001b[0mforward\u001b[0m\u001b[0;34m,\u001b[0m \u001b[0mnorm\u001b[0m\u001b[0;34m,\u001b[0m \u001b[0mout\u001b[0m\u001b[0;34m,\u001b[0m \u001b[0mworkers\u001b[0m\u001b[0;34m)\u001b[0m\u001b[0;34m\u001b[0m\u001b[0;34m\u001b[0m\u001b[0m\n\u001b[0m\u001b[1;32m     32\u001b[0m \u001b[0;34m\u001b[0m\u001b[0m\n\u001b[1;32m     33\u001b[0m \u001b[0;34m\u001b[0m\u001b[0m\n",
            "\u001b[0;31mKeyboardInterrupt\u001b[0m: "
          ]
        }
      ]
    },
    {
      "cell_type": "code",
      "source": [
        "import matplotlib.pyplot as plt\n",
        "\n",
        "def visualize_eeg_data(eeg_data, subject_id):\n",
        "    \"\"\"\n",
        "    Visualizes the EEG data for a specific subject.\n",
        "\n",
        "    Parameters:\n",
        "    eeg_data (dict): Dictionary containing EEG data for all subjects.\n",
        "    subject_id (str): The ID of the subject to visualize (e.g., 'sub-001').\n",
        "\n",
        "    \"\"\"\n",
        "    # Get the data for the subject\n",
        "    subject_info = eeg_data.get(subject_id)\n",
        "\n",
        "    if subject_info:\n",
        "        # Access raw EEG data\n",
        "        raw = subject_info.get('eeg')\n",
        "\n",
        "        if raw:\n",
        "            # Plot the raw EEG data (time series)\n",
        "            print(f\"Plotting EEG data for {subject_id}\")\n",
        "            raw.plot(duration=30, n_channels=30, scalings='auto', title=f\"EEG Data for {subject_id}\")\n",
        "\n",
        "        else:\n",
        "            print(f\"No EEG data available for {subject_id}\")\n",
        "\n",
        "    else:\n",
        "        print(f\"Subject {subject_id} not found in the EEG data.\")\n",
        "\n",
        "# Example usage: Visualizing EEG for subject 1\n",
        "visualize_eeg_data(eeg_data, 'sub-001')\n"
      ],
      "metadata": {
        "id": "0SDQ8Bj1sLpC"
      },
      "execution_count": null,
      "outputs": []
    },
    {
      "cell_type": "code",
      "source": [
        "import mne\n",
        "import numpy as np\n",
        "import matplotlib.pyplot as plt\n",
        "\n",
        "def categorize_eeg_waves(raw, subject_id):\n",
        "    # Apply bandpass filters for each EEG wave category\n",
        "    # Delta: 0.5 - 4 Hz\n",
        "    raw_delta = raw.copy().filter(l_freq=0.5, h_freq=4)\n",
        "\n",
        "    # Theta: 4 - 8 Hz\n",
        "    raw_theta = raw.copy().filter(l_freq=4, h_freq=8)\n",
        "\n",
        "    # Alpha: 8 - 12 Hz\n",
        "    raw_alpha = raw.copy().filter(l_freq=8, h_freq=12)\n",
        "\n",
        "    # Beta: 12 - 30 Hz\n",
        "    raw_beta = raw.copy().filter(l_freq=12, h_freq=30)\n",
        "\n",
        "    # Gamma: 30 - 40 Hz\n",
        "    raw_gamma = raw.copy().filter(l_freq=30, h_freq=40)\n",
        "\n",
        "    # Plotting power spectral densities with unique titles for each frequency band\n",
        "    plt.figure(figsize=(10, 6))\n",
        "\n",
        "    # Power spectral density for Delta (0.5 - 4 Hz)\n",
        "    raw_delta.plot_psd(fmin=0.5, fmax=4, show=False)\n",
        "    plt.title(f\"Delta Wave for {subject_id}\")\n",
        "\n",
        "    # Power spectral density for Theta (4 - 8 Hz)\n",
        "    raw_theta.plot_psd(fmin=4, fmax=8, show=False)\n",
        "    plt.title(f\"Theta Wave for {subject_id}\")\n",
        "\n",
        "    # Power spectral density for Alpha (8 - 12 Hz)\n",
        "    raw_alpha.plot_psd(fmin=8, fmax=12, show=False)\n",
        "    plt.title(f\"Alpha Wave for {subject_id}\")\n",
        "\n",
        "    # Power spectral density for Beta (12 - 30 Hz)\n",
        "    raw_beta.plot_psd(fmin=12, fmax=30, show=False)\n",
        "    plt.title(f\"Beta Wave for {subject_id}\")\n",
        "\n",
        "    # Power spectral density for Gamma (30 - 40 Hz)\n",
        "    raw_gamma.plot_psd(fmin=30, fmax=40, show=False)\n",
        "    plt.title(f\"Gamma Wave for {subject_id}\")\n",
        "\n",
        "    # Show the plots\n",
        "    plt.show()\n",
        "\n",
        "# Example usage: Retrieve the raw EEG data for subject 1 and categorize the waves\n",
        "subject_1_data = eeg_data.get('sub-001')  # Get data for subject 1\n",
        "if subject_1_data and 'eeg' in subject_1_data:\n",
        "    raw_eeg_data = subject_1_data['eeg']\n",
        "    categorize_eeg_waves(raw_eeg_data, 'Subject 1')  # Categorize EEG waves for subject 1\n",
        "else:\n",
        "    print(\"EEG data for subject 1 is not available.\")\n"
      ],
      "metadata": {
        "id": "8LITur9Os-CP"
      },
      "execution_count": null,
      "outputs": []
    },
    {
      "cell_type": "code",
      "source": [
        "import pandas as pd\n",
        "\n",
        "# Path to your participants.tsv file\n",
        "participants_path = \"/root/.cache/kagglehub/datasets/yosftag/open-nuro-dataset/versions/1/dataset/participants.tsv\"\n",
        "\n",
        "# Read the TSV file\n",
        "participants_df = pd.read_csv(participants_path, sep='\\t')\n",
        "\n",
        "# Preview the data\n",
        "print(participants_df.head())\n",
        "\n",
        "# Create subject_labels dictionary from the 'participant_id' and 'Group' columns\n",
        "subject_labels = dict(zip(participants_df['participant_id'], participants_df['Group']))\n",
        "\n",
        "# Example:\n",
        "print(subject_labels['sub-001'])  # Should print 'A'\n"
      ],
      "metadata": {
        "id": "fa6W_pJlvQyh"
      },
      "execution_count": null,
      "outputs": []
    },
    {
      "cell_type": "code",
      "source": [
        "!pip install --upgrade mne"
      ],
      "metadata": {
        "id": "IDaXnIE6v7Np"
      },
      "execution_count": null,
      "outputs": []
    },
    {
      "cell_type": "code",
      "source": [
        "from mne.time_frequency import psd_welch\n",
        "import pandas as pd\n",
        "import numpy as np\n",
        "import matplotlib.pyplot as plt\n",
        "import seaborn as sns\n",
        "\n",
        "# Define frequency bands\n",
        "bands = {\n",
        "    'delta': (0.5, 4),\n",
        "    'theta': (4, 8),\n",
        "    'alpha': (8, 12),\n",
        "    'beta': (12, 30),\n",
        "    'gamma': (30, 40),\n",
        "}\n",
        "\n",
        "# Diagnosis mapping: replace this with real data or load from CSV\n",
        "# subject_labels = {\n",
        "#     'sub-001': 'AD',\n",
        "#     'sub-002': 'Control',\n",
        "#     'sub-003': 'AD',\n",
        "#     # ...\n",
        "# }\n",
        "\n",
        "# Store all results\n",
        "band_power_data = []\n",
        "\n",
        "# Loop through subjects\n",
        "for subject_id, data in eeg_data.items():\n",
        "    if 'eeg' not in data:\n",
        "        continue\n",
        "\n",
        "    raw = data['eeg']\n",
        "    label = subject_labels.get(subject_id, 'Unknown')\n",
        "\n",
        "    # Compute PSD using Welch’s method\n",
        "    psd, freqs = psd_welch(raw, fmin=0.5, fmax=40, n_fft=2048)\n",
        "\n",
        "    # Average across channels\n",
        "    psd_mean = np.mean(psd, axis=0)\n",
        "\n",
        "    # Compute power in each band\n",
        "    band_powers = {}\n",
        "    for band_name, (fmin, fmax) in bands.items():\n",
        "        idx = np.logical_and(freqs >= fmin, freqs <= fmax)\n",
        "        band_power = np.mean(psd_mean[idx])\n",
        "        band_powers[band_name] = band_power\n",
        "\n",
        "    # Store result\n",
        "    band_power_data.append({\n",
        "        'subject': subject_id,\n",
        "        'group': label,\n",
        "        **band_powers\n",
        "    })\n",
        "\n",
        "# Create DataFrame\n",
        "df = pd.DataFrame(band_power_data)\n",
        "print(df.head())\n"
      ],
      "metadata": {
        "id": "nVClomoKv0OS"
      },
      "execution_count": null,
      "outputs": []
    },
    {
      "cell_type": "code",
      "source": [
        "import numpy as np\n",
        "\n",
        "small_numbers = np.array([1e-10, 1.1e-10, 1.2e-10])\n",
        "\n",
        "log_numbers = np.log(small_numbers)\n",
        "print(\"Logarithms:\", log_numbers)\n",
        "\n",
        "# Perform calculations in the log domain\n",
        "log_diff = log_numbers[1] - log_numbers[0]\n",
        "print(\"Log difference:\", log_diff)\n",
        "\n",
        "# Convert back to the original scale\n",
        "diff = np.exp(log_diff)\n",
        "print(\"Difference:\", diff)"
      ],
      "metadata": {
        "id": "9LK-5WejK9wK"
      },
      "execution_count": null,
      "outputs": []
    }
  ]
}